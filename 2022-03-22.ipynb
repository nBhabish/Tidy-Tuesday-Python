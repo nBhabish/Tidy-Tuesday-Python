{
 "cells": [
  {
   "cell_type": "markdown",
   "id": "d3ed6729-59a8-4c85-8d1f-90ffa98d6ad9",
   "metadata": {},
   "source": [
    "# *Importing Libraries*"
   ]
  },
  {
   "cell_type": "code",
   "execution_count": 26,
   "id": "00fa79d5-85f6-4f4b-a226-77eadf65e7cf",
   "metadata": {
    "tags": []
   },
   "outputs": [
    {
     "data": {
      "text/plain": [
       "RendererRegistry.enable('mimetype')"
      ]
     },
     "execution_count": 26,
     "metadata": {},
     "output_type": "execute_result"
    }
   ],
   "source": [
    "import pandas as pd\n",
    "import altair as alt\n",
    "from siuba import _, filter, group_by, summarize, count, mutate, select, arrange\n",
    "alt.renderers.enable('mimetype')"
   ]
  },
  {
   "cell_type": "markdown",
   "id": "2e251e8e-1136-4fc5-ac92-29ebf43ee41b",
   "metadata": {},
   "source": [
    "## *Importing Data*\n",
    "\n",
    "__*Data comes from Tidy Tuesday project that is aimed at the R ecosystem. I will be using Python to draw insights from this dataset.*__"
   ]
  },
  {
   "cell_type": "code",
   "execution_count": 27,
   "id": "ccf36b07-65e9-4986-aef7-2b0f01208f18",
   "metadata": {},
   "outputs": [],
   "source": [
    "baby_names = pd.read_csv('https://raw.githubusercontent.com/rfordatascience/tidytuesday/master/data/2022/2022-03-22/babynames.csv')"
   ]
  },
  {
   "cell_type": "code",
   "execution_count": 28,
   "id": "c9c5b586-e708-4cab-a0c1-e107386be930",
   "metadata": {},
   "outputs": [
    {
     "data": {
      "text/html": [
       "<div>\n",
       "<style scoped>\n",
       "    .dataframe tbody tr th:only-of-type {\n",
       "        vertical-align: middle;\n",
       "    }\n",
       "\n",
       "    .dataframe tbody tr th {\n",
       "        vertical-align: top;\n",
       "    }\n",
       "\n",
       "    .dataframe thead th {\n",
       "        text-align: right;\n",
       "    }\n",
       "</style>\n",
       "<table border=\"1\" class=\"dataframe\">\n",
       "  <thead>\n",
       "    <tr style=\"text-align: right;\">\n",
       "      <th></th>\n",
       "      <th>year</th>\n",
       "      <th>sex</th>\n",
       "      <th>name</th>\n",
       "      <th>n</th>\n",
       "      <th>prop</th>\n",
       "    </tr>\n",
       "  </thead>\n",
       "  <tbody>\n",
       "    <tr>\n",
       "      <th>0</th>\n",
       "      <td>1880</td>\n",
       "      <td>F</td>\n",
       "      <td>Mary</td>\n",
       "      <td>7065</td>\n",
       "      <td>0.072384</td>\n",
       "    </tr>\n",
       "    <tr>\n",
       "      <th>1</th>\n",
       "      <td>1880</td>\n",
       "      <td>F</td>\n",
       "      <td>Anna</td>\n",
       "      <td>2604</td>\n",
       "      <td>0.026679</td>\n",
       "    </tr>\n",
       "    <tr>\n",
       "      <th>2</th>\n",
       "      <td>1880</td>\n",
       "      <td>F</td>\n",
       "      <td>Emma</td>\n",
       "      <td>2003</td>\n",
       "      <td>0.020521</td>\n",
       "    </tr>\n",
       "    <tr>\n",
       "      <th>3</th>\n",
       "      <td>1880</td>\n",
       "      <td>F</td>\n",
       "      <td>Elizabeth</td>\n",
       "      <td>1939</td>\n",
       "      <td>0.019866</td>\n",
       "    </tr>\n",
       "  </tbody>\n",
       "</table>\n",
       "</div>"
      ],
      "text/plain": [
       "   year sex       name     n      prop\n",
       "0  1880   F       Mary  7065  0.072384\n",
       "1  1880   F       Anna  2604  0.026679\n",
       "2  1880   F       Emma  2003  0.020521\n",
       "3  1880   F  Elizabeth  1939  0.019866"
      ]
     },
     "execution_count": 28,
     "metadata": {},
     "output_type": "execute_result"
    }
   ],
   "source": [
    "baby_names.head(4)"
   ]
  },
  {
   "cell_type": "code",
   "execution_count": 29,
   "id": "6f7054ac-1684-40ad-a2d7-407264b8a921",
   "metadata": {},
   "outputs": [
    {
     "data": {
      "text/plain": [
       "year    0\n",
       "sex     0\n",
       "name    0\n",
       "n       0\n",
       "prop    0\n",
       "dtype: int64"
      ]
     },
     "execution_count": 29,
     "metadata": {},
     "output_type": "execute_result"
    }
   ],
   "source": [
    "baby_names.isnull().sum() # there's no missing data at all in this dataset"
   ]
  },
  {
   "cell_type": "markdown",
   "id": "a5b0bd9d-d29d-401f-b43a-e4b538e44243",
   "metadata": {},
   "source": [
    "## *Exploratory Data Analysis*"
   ]
  },
  {
   "cell_type": "code",
   "execution_count": 30,
   "id": "5fd73e5b-ed62-494c-b47c-6ca058952768",
   "metadata": {},
   "outputs": [
    {
     "name": "stdout",
     "output_type": "stream",
     "text": [
      "<class 'pandas.core.frame.DataFrame'>\n",
      "RangeIndex: 1924665 entries, 0 to 1924664\n",
      "Data columns (total 5 columns):\n",
      " #   Column  Dtype  \n",
      "---  ------  -----  \n",
      " 0   year    int64  \n",
      " 1   sex     object \n",
      " 2   name    object \n",
      " 3   n       int64  \n",
      " 4   prop    float64\n",
      "dtypes: float64(1), int64(2), object(2)\n",
      "memory usage: 73.4+ MB\n"
     ]
    }
   ],
   "source": [
    "baby_names.info()"
   ]
  },
  {
   "cell_type": "code",
   "execution_count": 31,
   "id": "2f3b42f7-ec9e-4be9-b47d-7f818343c72a",
   "metadata": {},
   "outputs": [
    {
     "data": {
      "text/plain": [
       "array([1880, 1881, 1882, 1883, 1884, 1885, 1886, 1887, 1888, 1889, 1890,\n",
       "       1891, 1892, 1893, 1894, 1895, 1896, 1897, 1898, 1899, 1900, 1901,\n",
       "       1902, 1903, 1904, 1905, 1906, 1907, 1908, 1909, 1910, 1911, 1912,\n",
       "       1913, 1914, 1915, 1916, 1917, 1918, 1919, 1920, 1921, 1922, 1923,\n",
       "       1924, 1925, 1926, 1927, 1928, 1929, 1930, 1931, 1932, 1933, 1934,\n",
       "       1935, 1936, 1937, 1938, 1939, 1940, 1941, 1942, 1943, 1944, 1945,\n",
       "       1946, 1947, 1948, 1949, 1950, 1951, 1952, 1953, 1954, 1955, 1956,\n",
       "       1957, 1958, 1959, 1960, 1961, 1962, 1963, 1964, 1965, 1966, 1967,\n",
       "       1968, 1969, 1970, 1971, 1972, 1973, 1974, 1975, 1976, 1977, 1978,\n",
       "       1979, 1980, 1981, 1982, 1983, 1984, 1985, 1986, 1987, 1988, 1989,\n",
       "       1990, 1991, 1992, 1993, 1994, 1995, 1996, 1997, 1998, 1999, 2000,\n",
       "       2001, 2002, 2003, 2004, 2005, 2006, 2007, 2008, 2009, 2010, 2011,\n",
       "       2012, 2013, 2014, 2015, 2016, 2017])"
      ]
     },
     "execution_count": 31,
     "metadata": {},
     "output_type": "execute_result"
    }
   ],
   "source": [
    "baby_names['year'].unique()"
   ]
  },
  {
   "cell_type": "markdown",
   "id": "7ffdf643-d291-425b-af58-21a72c3fc157",
   "metadata": {},
   "source": [
    "*We can see that we have got a whole lot of names from different years*"
   ]
  },
  {
   "cell_type": "code",
   "execution_count": 32,
   "id": "c4bf41cd-e162-45d6-8200-8fff059a7a39",
   "metadata": {},
   "outputs": [],
   "source": [
    "observations_by_year = baby_names[['year']].value_counts().rename_axis('year').reset_index(name='counts')"
   ]
  },
  {
   "cell_type": "code",
   "execution_count": 33,
   "id": "a85bb80e-61e9-4561-8c62-a71f1057a6bf",
   "metadata": {},
   "outputs": [
    {
     "data": {
      "text/html": [
       "<div>\n",
       "<style scoped>\n",
       "    .dataframe tbody tr th:only-of-type {\n",
       "        vertical-align: middle;\n",
       "    }\n",
       "\n",
       "    .dataframe tbody tr th {\n",
       "        vertical-align: top;\n",
       "    }\n",
       "\n",
       "    .dataframe thead th {\n",
       "        text-align: right;\n",
       "    }\n",
       "</style>\n",
       "<table border=\"1\" class=\"dataframe\">\n",
       "  <thead>\n",
       "    <tr style=\"text-align: right;\">\n",
       "      <th></th>\n",
       "      <th>year</th>\n",
       "      <th>counts</th>\n",
       "    </tr>\n",
       "  </thead>\n",
       "  <tbody>\n",
       "    <tr>\n",
       "      <th>0</th>\n",
       "      <td>2008</td>\n",
       "      <td>35070</td>\n",
       "    </tr>\n",
       "    <tr>\n",
       "      <th>1</th>\n",
       "      <td>2007</td>\n",
       "      <td>34950</td>\n",
       "    </tr>\n",
       "    <tr>\n",
       "      <th>2</th>\n",
       "      <td>2009</td>\n",
       "      <td>34702</td>\n",
       "    </tr>\n",
       "    <tr>\n",
       "      <th>3</th>\n",
       "      <td>2006</td>\n",
       "      <td>34082</td>\n",
       "    </tr>\n",
       "    <tr>\n",
       "      <th>4</th>\n",
       "      <td>2010</td>\n",
       "      <td>34067</td>\n",
       "    </tr>\n",
       "  </tbody>\n",
       "</table>\n",
       "</div>"
      ],
      "text/plain": [
       "   year  counts\n",
       "0  2008   35070\n",
       "1  2007   34950\n",
       "2  2009   34702\n",
       "3  2006   34082\n",
       "4  2010   34067"
      ]
     },
     "execution_count": 33,
     "metadata": {},
     "output_type": "execute_result"
    }
   ],
   "source": [
    "observations_by_year.head()"
   ]
  },
  {
   "cell_type": "code",
   "execution_count": 34,
   "id": "ba87ead5-0cca-46d1-bc42-a79328df790d",
   "metadata": {},
   "outputs": [
    {
     "data": {
      "application/vnd.vegalite.v4+json": {
       "$schema": "https://vega.github.io/schema/vega-lite/v4.17.0.json",
       "config": {
        "view": {
         "continuousHeight": 300,
         "continuousWidth": 400
        }
       },
       "data": {
        "name": "data-41ac05a24feddafcd330b3672ff286d1"
       },
       "datasets": {
        "data-41ac05a24feddafcd330b3672ff286d1": [
         {
          "counts": 35070,
          "year": 2008
         },
         {
          "counts": 34950,
          "year": 2007
         },
         {
          "counts": 34702,
          "year": 2009
         },
         {
          "counts": 34082,
          "year": 2006
         },
         {
          "counts": 34067,
          "year": 2010
         },
         {
          "counts": 33903,
          "year": 2011
         },
         {
          "counts": 33732,
          "year": 2012
         },
         {
          "counts": 33269,
          "year": 2013
         },
         {
          "counts": 33228,
          "year": 2014
         },
         {
          "counts": 33098,
          "year": 2015
         },
         {
          "counts": 32979,
          "year": 2016
         },
         {
          "counts": 32546,
          "year": 2005
         },
         {
          "counts": 32469,
          "year": 2017
         },
         {
          "counts": 32046,
          "year": 2004
         },
         {
          "counts": 31183,
          "year": 2003
         },
         {
          "counts": 30563,
          "year": 2002
         },
         {
          "counts": 30269,
          "year": 2001
         },
         {
          "counts": 29769,
          "year": 2000
         },
         {
          "counts": 28550,
          "year": 1999
         },
         {
          "counts": 27899,
          "year": 1998
         },
         {
          "counts": 26971,
          "year": 1997
         },
         {
          "counts": 26423,
          "year": 1996
         },
         {
          "counts": 26080,
          "year": 1995
         },
         {
          "counts": 25995,
          "year": 1994
         },
         {
          "counts": 25966,
          "year": 1993
         },
         {
          "counts": 25427,
          "year": 1992
         },
         {
          "counts": 25105,
          "year": 1991
         },
         {
          "counts": 24719,
          "year": 1990
         },
         {
          "counts": 23773,
          "year": 1989
         },
         {
          "counts": 22364,
          "year": 1988
         },
         {
          "counts": 21403,
          "year": 1987
         },
         {
          "counts": 20649,
          "year": 1986
         },
         {
          "counts": 20081,
          "year": 1985
         },
         {
          "counts": 19691,
          "year": 1982
         },
         {
          "counts": 19503,
          "year": 1984
         },
         {
          "counts": 19472,
          "year": 1981
         },
         {
          "counts": 19445,
          "year": 1980
         },
         {
          "counts": 19403,
          "year": 1983
         },
         {
          "counts": 19038,
          "year": 1979
         },
         {
          "counts": 18229,
          "year": 1978
         },
         {
          "counts": 18175,
          "year": 1977
         },
         {
          "counts": 17391,
          "year": 1976
         },
         {
          "counts": 16944,
          "year": 1975
         },
         {
          "counts": 16244,
          "year": 1974
         },
         {
          "counts": 15681,
          "year": 1973
         },
         {
          "counts": 15411,
          "year": 1972
         },
         {
          "counts": 15293,
          "year": 1971
         },
         {
          "counts": 14780,
          "year": 1970
         },
         {
          "counts": 13748,
          "year": 1969
         },
         {
          "counts": 12935,
          "year": 1968
         },
         {
          "counts": 12399,
          "year": 1967
         },
         {
          "counts": 12396,
          "year": 1964
         },
         {
          "counts": 12282,
          "year": 1963
         },
         {
          "counts": 12206,
          "year": 1962
         },
         {
          "counts": 12181,
          "year": 1961
         },
         {
          "counts": 12152,
          "year": 1966
         },
         {
          "counts": 11953,
          "year": 1965
         },
         {
          "counts": 11921,
          "year": 1960
         },
         {
          "counts": 11769,
          "year": 1959
         },
         {
          "counts": 11564,
          "year": 1957
         },
         {
          "counts": 11521,
          "year": 1958
         },
         {
          "counts": 11335,
          "year": 1956
         },
         {
          "counts": 11113,
          "year": 1955
         },
         {
          "counts": 10968,
          "year": 1954
         },
         {
          "counts": 10869,
          "year": 1924
         },
         {
          "counts": 10857,
          "year": 1921
         },
         {
          "counts": 10838,
          "year": 1953
         },
         {
          "counts": 10756,
          "year": 1922
         },
         {
          "counts": 10755,
          "year": 1920
         },
         {
          "counts": 10648,
          "year": 1952
         },
         {
          "counts": 10643,
          "year": 1923
         },
         {
          "counts": 10638,
          "year": 1925
         },
         {
          "counts": 10462,
          "year": 1951
         },
         {
          "counts": 10458,
          "year": 1926
         },
         {
          "counts": 10406,
          "year": 1927
         },
         {
          "counts": 10399,
          "year": 1918
         },
         {
          "counts": 10371,
          "year": 1947
         },
         {
          "counts": 10369,
          "year": 1919
         },
         {
          "counts": 10302,
          "year": 1950
         },
         {
          "counts": 10268,
          "year": 1949
         },
         {
          "counts": 10239,
          "year": 1948
         },
         {
          "counts": 10160,
          "year": 1928
         },
         {
          "counts": 9914,
          "year": 1917
         },
         {
          "counts": 9818,
          "year": 1929
         },
         {
          "counts": 9789,
          "year": 1930
         },
         {
          "counts": 9705,
          "year": 1946
         },
         {
          "counts": 9696,
          "year": 1916
         },
         {
          "counts": 9425,
          "year": 1942
         },
         {
          "counts": 9408,
          "year": 1943
         },
         {
          "counts": 9384,
          "year": 1932
         },
         {
          "counts": 9357,
          "year": 1915
         },
         {
          "counts": 9297,
          "year": 1931
         },
         {
          "counts": 9180,
          "year": 1934
         },
         {
          "counts": 9154,
          "year": 1944
         },
         {
          "counts": 9085,
          "year": 1941
         },
         {
          "counts": 9037,
          "year": 1935
         },
         {
          "counts": 9030,
          "year": 1938
         },
         {
          "counts": 9024,
          "year": 1945
         },
         {
          "counts": 9012,
          "year": 1933
         },
         {
          "counts": 8961,
          "year": 1940
         },
         {
          "counts": 8946,
          "year": 1937
         },
         {
          "counts": 8919,
          "year": 1939
         },
         {
          "counts": 8893,
          "year": 1936
         },
         {
          "counts": 7965,
          "year": 1914
         },
         {
          "counts": 6968,
          "year": 1913
         },
         {
          "counts": 6351,
          "year": 1912
         },
         {
          "counts": 4867,
          "year": 1911
         },
         {
          "counts": 4629,
          "year": 1910
         },
         {
          "counts": 4227,
          "year": 1909
         },
         {
          "counts": 4018,
          "year": 1908
         },
         {
          "counts": 3948,
          "year": 1907
         },
         {
          "counts": 3730,
          "year": 1900
         },
         {
          "counts": 3655,
          "year": 1905
         },
         {
          "counts": 3633,
          "year": 1906
         },
         {
          "counts": 3560,
          "year": 1904
         },
         {
          "counts": 3389,
          "year": 1903
         },
         {
          "counts": 3362,
          "year": 1902
         },
         {
          "counts": 3264,
          "year": 1898
         },
         {
          "counts": 3153,
          "year": 1901
         },
         {
          "counts": 3091,
          "year": 1896
         },
         {
          "counts": 3049,
          "year": 1895
         },
         {
          "counts": 3042,
          "year": 1899
         },
         {
          "counts": 3028,
          "year": 1897
         },
         {
          "counts": 2941,
          "year": 1894
         },
         {
          "counts": 2921,
          "year": 1892
         },
         {
          "counts": 2831,
          "year": 1893
         },
         {
          "counts": 2695,
          "year": 1890
         },
         {
          "counts": 2660,
          "year": 1891
         },
         {
          "counts": 2651,
          "year": 1888
         },
         {
          "counts": 2590,
          "year": 1889
         },
         {
          "counts": 2392,
          "year": 1886
         },
         {
          "counts": 2373,
          "year": 1887
         },
         {
          "counts": 2297,
          "year": 1884
         },
         {
          "counts": 2294,
          "year": 1885
         },
         {
          "counts": 2127,
          "year": 1882
         },
         {
          "counts": 2084,
          "year": 1883
         },
         {
          "counts": 2000,
          "year": 1880
         },
         {
          "counts": 1935,
          "year": 1881
         }
        ]
       },
       "encoding": {
        "x": {
         "field": "year",
         "title": "Year",
         "type": "quantitative"
        },
        "y": {
         "field": "counts",
         "title": "Number of Names Given",
         "type": "quantitative"
        }
       },
       "mark": "line",
       "title": "Increment in Baby Names Given Over The Years"
      },
      "image/png": "[encoded data removed]",
      "text/plain": [
       "<VegaLite 4 object>\n",
       "\n",
       "If you see this message, it means the renderer has not been properly enabled\n",
       "for the frontend that you are using. For more information, see\n",
       "https://altair-viz.github.io/user_guide/troubleshooting.html\n"
      ]
     },
     "execution_count": 34,
     "metadata": {},
     "output_type": "execute_result"
    }
   ],
   "source": [
    "(alt.Chart(observations_by_year).\n",
    "     mark_line().encode(x = alt.Y('year', title = 'Year'), y = alt.Y('counts', title = 'Number of Names Given')).\n",
    "     properties(title = 'Increment in Baby Names Given Over The Years')\n",
    ")"
   ]
  },
  {
   "cell_type": "markdown",
   "id": "902431d4-547a-49a4-971c-a473baf36424",
   "metadata": {},
   "source": [
    "## *Let's dig at 1998*"
   ]
  },
  {
   "cell_type": "code",
   "execution_count": 35,
   "id": "eb182521-b78f-49dd-95d1-0fce420e8c7b",
   "metadata": {},
   "outputs": [
    {
     "data": {
      "text/html": [
       "<div>\n",
       "<style scoped>\n",
       "    .dataframe tbody tr th:only-of-type {\n",
       "        vertical-align: middle;\n",
       "    }\n",
       "\n",
       "    .dataframe tbody tr th {\n",
       "        vertical-align: top;\n",
       "    }\n",
       "\n",
       "    .dataframe thead th {\n",
       "        text-align: right;\n",
       "    }\n",
       "</style>\n",
       "<table border=\"1\" class=\"dataframe\">\n",
       "  <thead>\n",
       "    <tr style=\"text-align: right;\">\n",
       "      <th></th>\n",
       "      <th>year</th>\n",
       "      <th>sex</th>\n",
       "      <th>name</th>\n",
       "      <th>n</th>\n",
       "      <th>prop</th>\n",
       "    </tr>\n",
       "  </thead>\n",
       "  <tbody>\n",
       "    <tr>\n",
       "      <th>1276291</th>\n",
       "      <td>1998</td>\n",
       "      <td>F</td>\n",
       "      <td>Emily</td>\n",
       "      <td>26181</td>\n",
       "      <td>0.013509</td>\n",
       "    </tr>\n",
       "    <tr>\n",
       "      <th>1276292</th>\n",
       "      <td>1998</td>\n",
       "      <td>F</td>\n",
       "      <td>Hannah</td>\n",
       "      <td>21373</td>\n",
       "      <td>0.011028</td>\n",
       "    </tr>\n",
       "    <tr>\n",
       "      <th>1276293</th>\n",
       "      <td>1998</td>\n",
       "      <td>F</td>\n",
       "      <td>Samantha</td>\n",
       "      <td>20193</td>\n",
       "      <td>0.010419</td>\n",
       "    </tr>\n",
       "    <tr>\n",
       "      <th>1276294</th>\n",
       "      <td>1998</td>\n",
       "      <td>F</td>\n",
       "      <td>Sarah</td>\n",
       "      <td>19879</td>\n",
       "      <td>0.010257</td>\n",
       "    </tr>\n",
       "    <tr>\n",
       "      <th>1276295</th>\n",
       "      <td>1998</td>\n",
       "      <td>F</td>\n",
       "      <td>Ashley</td>\n",
       "      <td>19874</td>\n",
       "      <td>0.010255</td>\n",
       "    </tr>\n",
       "    <tr>\n",
       "      <th>...</th>\n",
       "      <td>...</td>\n",
       "      <td>...</td>\n",
       "      <td>...</td>\n",
       "      <td>...</td>\n",
       "      <td>...</td>\n",
       "    </tr>\n",
       "    <tr>\n",
       "      <th>1304185</th>\n",
       "      <td>1998</td>\n",
       "      <td>M</td>\n",
       "      <td>Zayvon</td>\n",
       "      <td>5</td>\n",
       "      <td>0.000002</td>\n",
       "    </tr>\n",
       "    <tr>\n",
       "      <th>1304186</th>\n",
       "      <td>1998</td>\n",
       "      <td>M</td>\n",
       "      <td>Ziaire</td>\n",
       "      <td>5</td>\n",
       "      <td>0.000002</td>\n",
       "    </tr>\n",
       "    <tr>\n",
       "      <th>1304187</th>\n",
       "      <td>1998</td>\n",
       "      <td>M</td>\n",
       "      <td>Zildjian</td>\n",
       "      <td>5</td>\n",
       "      <td>0.000002</td>\n",
       "    </tr>\n",
       "    <tr>\n",
       "      <th>1304188</th>\n",
       "      <td>1998</td>\n",
       "      <td>M</td>\n",
       "      <td>Zykeem</td>\n",
       "      <td>5</td>\n",
       "      <td>0.000002</td>\n",
       "    </tr>\n",
       "    <tr>\n",
       "      <th>1304189</th>\n",
       "      <td>1998</td>\n",
       "      <td>M</td>\n",
       "      <td>Zyquan</td>\n",
       "      <td>5</td>\n",
       "      <td>0.000002</td>\n",
       "    </tr>\n",
       "  </tbody>\n",
       "</table>\n",
       "<p>27899 rows × 5 columns</p>\n",
       "</div>"
      ],
      "text/plain": [
       "         year sex      name      n      prop\n",
       "1276291  1998   F     Emily  26181  0.013509\n",
       "1276292  1998   F    Hannah  21373  0.011028\n",
       "1276293  1998   F  Samantha  20193  0.010419\n",
       "1276294  1998   F     Sarah  19879  0.010257\n",
       "1276295  1998   F    Ashley  19874  0.010255\n",
       "...       ...  ..       ...    ...       ...\n",
       "1304185  1998   M    Zayvon      5  0.000002\n",
       "1304186  1998   M    Ziaire      5  0.000002\n",
       "1304187  1998   M  Zildjian      5  0.000002\n",
       "1304188  1998   M    Zykeem      5  0.000002\n",
       "1304189  1998   M    Zyquan      5  0.000002\n",
       "\n",
       "[27899 rows x 5 columns]"
      ]
     },
     "execution_count": 35,
     "metadata": {},
     "output_type": "execute_result"
    }
   ],
   "source": [
    "baby_names[baby_names['year'] == 1998]"
   ]
  },
  {
   "cell_type": "code",
   "execution_count": 36,
   "id": "a1860b26-41f8-4587-9507-52e9bea8f5de",
   "metadata": {},
   "outputs": [
    {
     "data": {
      "text/html": [
       "<div>\n",
       "<style scoped>\n",
       "    .dataframe tbody tr th:only-of-type {\n",
       "        vertical-align: middle;\n",
       "    }\n",
       "\n",
       "    .dataframe tbody tr th {\n",
       "        vertical-align: top;\n",
       "    }\n",
       "\n",
       "    .dataframe thead th {\n",
       "        text-align: right;\n",
       "    }\n",
       "</style>\n",
       "<table border=\"1\" class=\"dataframe\">\n",
       "  <thead>\n",
       "    <tr style=\"text-align: right;\">\n",
       "      <th></th>\n",
       "      <th>year</th>\n",
       "      <th>sex</th>\n",
       "      <th>name</th>\n",
       "      <th>n</th>\n",
       "      <th>prop</th>\n",
       "    </tr>\n",
       "  </thead>\n",
       "  <tbody>\n",
       "    <tr>\n",
       "      <th>99</th>\n",
       "      <td>1880</td>\n",
       "      <td>F</td>\n",
       "      <td>Emily</td>\n",
       "      <td>210</td>\n",
       "      <td>0.002152</td>\n",
       "    </tr>\n",
       "    <tr>\n",
       "      <th>2089</th>\n",
       "      <td>1881</td>\n",
       "      <td>F</td>\n",
       "      <td>Emily</td>\n",
       "      <td>244</td>\n",
       "      <td>0.002468</td>\n",
       "    </tr>\n",
       "    <tr>\n",
       "      <th>4029</th>\n",
       "      <td>1882</td>\n",
       "      <td>F</td>\n",
       "      <td>Emily</td>\n",
       "      <td>272</td>\n",
       "      <td>0.002351</td>\n",
       "    </tr>\n",
       "    <tr>\n",
       "      <th>6142</th>\n",
       "      <td>1883</td>\n",
       "      <td>F</td>\n",
       "      <td>Emily</td>\n",
       "      <td>342</td>\n",
       "      <td>0.002849</td>\n",
       "    </tr>\n",
       "    <tr>\n",
       "      <th>8226</th>\n",
       "      <td>1884</td>\n",
       "      <td>F</td>\n",
       "      <td>Emily</td>\n",
       "      <td>364</td>\n",
       "      <td>0.002646</td>\n",
       "    </tr>\n",
       "    <tr>\n",
       "      <th>...</th>\n",
       "      <td>...</td>\n",
       "      <td>...</td>\n",
       "      <td>...</td>\n",
       "      <td>...</td>\n",
       "      <td>...</td>\n",
       "    </tr>\n",
       "    <tr>\n",
       "      <th>1850539</th>\n",
       "      <td>2015</td>\n",
       "      <td>M</td>\n",
       "      <td>Emily</td>\n",
       "      <td>17</td>\n",
       "      <td>0.000008</td>\n",
       "    </tr>\n",
       "    <tr>\n",
       "      <th>1859225</th>\n",
       "      <td>2016</td>\n",
       "      <td>F</td>\n",
       "      <td>Emily</td>\n",
       "      <td>10957</td>\n",
       "      <td>0.005682</td>\n",
       "    </tr>\n",
       "    <tr>\n",
       "      <th>1887970</th>\n",
       "      <td>2016</td>\n",
       "      <td>M</td>\n",
       "      <td>Emily</td>\n",
       "      <td>7</td>\n",
       "      <td>0.000003</td>\n",
       "    </tr>\n",
       "    <tr>\n",
       "      <th>1892207</th>\n",
       "      <td>2017</td>\n",
       "      <td>F</td>\n",
       "      <td>Emily</td>\n",
       "      <td>9746</td>\n",
       "      <td>0.005198</td>\n",
       "    </tr>\n",
       "    <tr>\n",
       "      <th>1923277</th>\n",
       "      <td>2017</td>\n",
       "      <td>M</td>\n",
       "      <td>Emily</td>\n",
       "      <td>5</td>\n",
       "      <td>0.000003</td>\n",
       "    </tr>\n",
       "  </tbody>\n",
       "</table>\n",
       "<p>212 rows × 5 columns</p>\n",
       "</div>"
      ],
      "text/plain": [
       "         year sex   name      n      prop\n",
       "99       1880   F  Emily    210  0.002152\n",
       "2089     1881   F  Emily    244  0.002468\n",
       "4029     1882   F  Emily    272  0.002351\n",
       "6142     1883   F  Emily    342  0.002849\n",
       "8226     1884   F  Emily    364  0.002646\n",
       "...       ...  ..    ...    ...       ...\n",
       "1850539  2015   M  Emily     17  0.000008\n",
       "1859225  2016   F  Emily  10957  0.005682\n",
       "1887970  2016   M  Emily      7  0.000003\n",
       "1892207  2017   F  Emily   9746  0.005198\n",
       "1923277  2017   M  Emily      5  0.000003\n",
       "\n",
       "[212 rows x 5 columns]"
      ]
     },
     "execution_count": 36,
     "metadata": {},
     "output_type": "execute_result"
    }
   ],
   "source": [
    "baby_names>> filter(_.name == 'Emily')"
   ]
  },
  {
   "cell_type": "code",
   "execution_count": 37,
   "id": "dcccbcff-9ed6-4421-9739-1d42312d201e",
   "metadata": {},
   "outputs": [
    {
     "data": {
      "application/vnd.vegalite.v4+json": {
       "$schema": "https://vega.github.io/schema/vega-lite/v4.17.0.json",
       "config": {
        "view": {
         "continuousHeight": 300,
         "continuousWidth": 400
        }
       },
       "data": {
        "name": "data-2df034fe49bbb01a8daf0d04444bc123"
       },
       "datasets": {
        "data-2df034fe49bbb01a8daf0d04444bc123": [
         {
          "n": 210,
          "name": "Emily",
          "prop": 0.00215153,
          "sex": "F",
          "year": 1880
         },
         {
          "n": 244,
          "name": "Emily",
          "prop": 0.00246826,
          "sex": "F",
          "year": 1881
         },
         {
          "n": 272,
          "name": "Emily",
          "prop": 0.00235101,
          "sex": "F",
          "year": 1882
         },
         {
          "n": 342,
          "name": "Emily",
          "prop": 0.0028486,
          "sex": "F",
          "year": 1883
         },
         {
          "n": 364,
          "name": "Emily",
          "prop": 0.00264562,
          "sex": "F",
          "year": 1884
         },
         {
          "n": 346,
          "name": "Emily",
          "prop": 0.00243751,
          "sex": "F",
          "year": 1885
         },
         {
          "n": 369,
          "name": "Emily",
          "prop": 0.00240023,
          "sex": "F",
          "year": 1886
         },
         {
          "n": 335,
          "name": "Emily",
          "prop": 0.00215542,
          "sex": "F",
          "year": 1887
         },
         {
          "n": 457,
          "name": "Emily",
          "prop": 0.00241231,
          "sex": "F",
          "year": 1888
         },
         {
          "n": 429,
          "name": "Emily",
          "prop": 0.00226721,
          "sex": "F",
          "year": 1889
         },
         {
          "n": 509,
          "name": "Emily",
          "prop": 0.00252404,
          "sex": "F",
          "year": 1890
         },
         {
          "n": 444,
          "name": "Emily",
          "prop": 0.00225878,
          "sex": "F",
          "year": 1891
         },
         {
          "n": 518,
          "name": "Emily",
          "prop": 0.00230311,
          "sex": "F",
          "year": 1892
         },
         {
          "n": 506,
          "name": "Emily",
          "prop": 0.00224657,
          "sex": "F",
          "year": 1893
         },
         {
          "n": 551,
          "name": "Emily",
          "prop": 0.00233503,
          "sex": "F",
          "year": 1894
         },
         {
          "n": 605,
          "name": "Emily",
          "prop": 0.00244834,
          "sex": "F",
          "year": 1895
         },
         {
          "n": 527,
          "name": "Emily",
          "prop": 0.00209133,
          "sex": "F",
          "year": 1896
         },
         {
          "n": 5,
          "name": "Emily",
          "prop": 3.874e-05,
          "sex": "M",
          "year": 1896
         },
         {
          "n": 619,
          "name": "Emily",
          "prop": 0.0024932,
          "sex": "F",
          "year": 1897
         },
         {
          "n": 628,
          "name": "Emily",
          "prop": 0.00229077,
          "sex": "F",
          "year": 1898
         },
         {
          "n": 569,
          "name": "Emily",
          "prop": 0.00229908,
          "sex": "F",
          "year": 1899
         },
         {
          "n": 626,
          "name": "Emily",
          "prop": 0.00197009,
          "sex": "F",
          "year": 1900
         },
         {
          "n": 537,
          "name": "Emily",
          "prop": 0.00211227,
          "sex": "F",
          "year": 1901
         },
         {
          "n": 606,
          "name": "Emily",
          "prop": 0.00216171,
          "sex": "F",
          "year": 1902
         },
         {
          "n": 558,
          "name": "Emily",
          "prop": 0.00200578,
          "sex": "F",
          "year": 1903
         },
         {
          "n": 599,
          "name": "Emily",
          "prop": 0.00204831,
          "sex": "F",
          "year": 1904
         },
         {
          "n": 683,
          "name": "Emily",
          "prop": 0.00220419,
          "sex": "F",
          "year": 1905
         },
         {
          "n": 619,
          "name": "Emily",
          "prop": 0.00197486,
          "sex": "F",
          "year": 1906
         },
         {
          "n": 714,
          "name": "Emily",
          "prop": 0.00211597,
          "sex": "F",
          "year": 1907
         },
         {
          "n": 732,
          "name": "Emily",
          "prop": 0.0020647,
          "sex": "F",
          "year": 1908
         },
         {
          "n": 749,
          "name": "Emily",
          "prop": 0.0020348,
          "sex": "F",
          "year": 1909
         },
         {
          "n": 785,
          "name": "Emily",
          "prop": 0.00187116,
          "sex": "F",
          "year": 1910
         },
         {
          "n": 909,
          "name": "Emily",
          "prop": 0.00205741,
          "sex": "F",
          "year": 1911
         },
         {
          "n": 1147,
          "name": "Emily",
          "prop": 0.00195496,
          "sex": "F",
          "year": 1912
         },
         {
          "n": 6,
          "name": "Emily",
          "prop": 1.329e-05,
          "sex": "M",
          "year": 1912
         },
         {
          "n": 1387,
          "name": "Emily",
          "prop": 0.00211784,
          "sex": "F",
          "year": 1913
         },
         {
          "n": 1650,
          "name": "Emily",
          "prop": 0.00207125,
          "sex": "F",
          "year": 1914
         },
         {
          "n": 2091,
          "name": "Emily",
          "prop": 0.00204224,
          "sex": "F",
          "year": 1915
         },
         {
          "n": 2213,
          "name": "Emily",
          "prop": 0.00203828,
          "sex": "F",
          "year": 1916
         },
         {
          "n": 5,
          "name": "Emily",
          "prop": 5.42e-06,
          "sex": "M",
          "year": 1916
         },
         {
          "n": 2220,
          "name": "Emily",
          "prop": 0.00197562,
          "sex": "F",
          "year": 1917
         },
         {
          "n": 2361,
          "name": "Emily",
          "prop": 0.00196363,
          "sex": "F",
          "year": 1918
         },
         {
          "n": 2307,
          "name": "Emily",
          "prop": 0.00196399,
          "sex": "F",
          "year": 1919
         },
         {
          "n": 6,
          "name": "Emily",
          "prop": 5.91e-06,
          "sex": "M",
          "year": 1919
         },
         {
          "n": 2168,
          "name": "Emily",
          "prop": 0.00174271,
          "sex": "F",
          "year": 1920
         },
         {
          "n": 7,
          "name": "Emily",
          "prop": 6.36e-06,
          "sex": "M",
          "year": 1920
         },
         {
          "n": 2184,
          "name": "Emily",
          "prop": 0.00170664,
          "sex": "F",
          "year": 1921
         },
         {
          "n": 6,
          "name": "Emily",
          "prop": 5.27e-06,
          "sex": "M",
          "year": 1921
         },
         {
          "n": 2146,
          "name": "Emily",
          "prop": 0.00172016,
          "sex": "F",
          "year": 1922
         },
         {
          "n": 2056,
          "name": "Emily",
          "prop": 0.00164157,
          "sex": "F",
          "year": 1923
         },
         {
          "n": 5,
          "name": "Emily",
          "prop": 4.42e-06,
          "sex": "M",
          "year": 1923
         },
         {
          "n": 2044,
          "name": "Emily",
          "prop": 0.00157752,
          "sex": "F",
          "year": 1924
         },
         {
          "n": 7,
          "name": "Emily",
          "prop": 5.99e-06,
          "sex": "M",
          "year": 1924
         },
         {
          "n": 1766,
          "name": "Emily",
          "prop": 0.00139818,
          "sex": "F",
          "year": 1925
         },
         {
          "n": 5,
          "name": "Emily",
          "prop": 4.34e-06,
          "sex": "M",
          "year": 1925
         },
         {
          "n": 1729,
          "name": "Emily",
          "prop": 0.00140552,
          "sex": "F",
          "year": 1926
         },
         {
          "n": 6,
          "name": "Emily",
          "prop": 5.24e-06,
          "sex": "M",
          "year": 1926
         },
         {
          "n": 1656,
          "name": "Emily",
          "prop": 0.00133938,
          "sex": "F",
          "year": 1927
         },
         {
          "n": 11,
          "name": "Emily",
          "prop": 9.47e-06,
          "sex": "M",
          "year": 1927
         },
         {
          "n": 1559,
          "name": "Emily",
          "prop": 0.0013041,
          "sex": "F",
          "year": 1928
         },
         {
          "n": 1445,
          "name": "Emily",
          "prop": 0.00124836,
          "sex": "F",
          "year": 1929
         },
         {
          "n": 6,
          "name": "Emily",
          "prop": 5.42e-06,
          "sex": "M",
          "year": 1929
         },
         {
          "n": 1344,
          "name": "Emily",
          "prop": 0.00115224,
          "sex": "F",
          "year": 1930
         },
         {
          "n": 10,
          "name": "Emily",
          "prop": 8.85e-06,
          "sex": "M",
          "year": 1930
         },
         {
          "n": 1188,
          "name": "Emily",
          "prop": 0.00107645,
          "sex": "F",
          "year": 1931
         },
         {
          "n": 8,
          "name": "Emily",
          "prop": 7.48e-06,
          "sex": "M",
          "year": 1931
         },
         {
          "n": 1146,
          "name": "Emily",
          "prop": 0.00103596,
          "sex": "F",
          "year": 1932
         },
         {
          "n": 8,
          "name": "Emily",
          "prop": 7.45e-06,
          "sex": "M",
          "year": 1932
         },
         {
          "n": 1062,
          "name": "Emily",
          "prop": 0.00101536,
          "sex": "F",
          "year": 1933
         },
         {
          "n": 1068,
          "name": "Emily",
          "prop": 0.00098686,
          "sex": "F",
          "year": 1934
         },
         {
          "n": 1094,
          "name": "Emily",
          "prop": 0.00100671,
          "sex": "F",
          "year": 1935
         },
         {
          "n": 1123,
          "name": "Emily",
          "prop": 0.00104224,
          "sex": "F",
          "year": 1936
         },
         {
          "n": 7,
          "name": "Emily",
          "prop": 6.58e-06,
          "sex": "M",
          "year": 1936
         },
         {
          "n": 1293,
          "name": "Emily",
          "prop": 0.00117357,
          "sex": "F",
          "year": 1937
         },
         {
          "n": 5,
          "name": "Emily",
          "prop": 4.57e-06,
          "sex": "M",
          "year": 1937
         },
         {
          "n": 1308,
          "name": "Emily",
          "prop": 0.001146,
          "sex": "F",
          "year": 1938
         },
         {
          "n": 7,
          "name": "Emily",
          "prop": 6.16e-06,
          "sex": "M",
          "year": 1938
         },
         {
          "n": 1292,
          "name": "Emily",
          "prop": 0.00113929,
          "sex": "F",
          "year": 1939
         },
         {
          "n": 8,
          "name": "Emily",
          "prop": 7.06e-06,
          "sex": "M",
          "year": 1939
         },
         {
          "n": 1269,
          "name": "Emily",
          "prop": 0.00107429,
          "sex": "F",
          "year": 1940
         },
         {
          "n": 5,
          "name": "Emily",
          "prop": 4.22e-06,
          "sex": "M",
          "year": 1940
         },
         {
          "n": 1368,
          "name": "Emily",
          "prop": 0.00109804,
          "sex": "F",
          "year": 1941
         },
         {
          "n": 9,
          "name": "Emily",
          "prop": 7.17e-06,
          "sex": "M",
          "year": 1941
         },
         {
          "n": 1419,
          "name": "Emily",
          "prop": 0.00102057,
          "sex": "F",
          "year": 1942
         },
         {
          "n": 7,
          "name": "Emily",
          "prop": 4.97e-06,
          "sex": "M",
          "year": 1942
         },
         {
          "n": 1336,
          "name": "Emily",
          "prop": 0.00093083,
          "sex": "F",
          "year": 1943
         },
         {
          "n": 1251,
          "name": "Emily",
          "prop": 0.00091551,
          "sex": "F",
          "year": 1944
         },
         {
          "n": 1134,
          "name": "Emily",
          "prop": 0.00084246,
          "sex": "F",
          "year": 1945
         },
         {
          "n": 7,
          "name": "Emily",
          "prop": 5.1e-06,
          "sex": "M",
          "year": 1945
         },
         {
          "n": 1379,
          "name": "Emily",
          "prop": 0.00085501,
          "sex": "F",
          "year": 1946
         },
         {
          "n": 5,
          "name": "Emily",
          "prop": 3.03e-06,
          "sex": "M",
          "year": 1946
         },
         {
          "n": 1468,
          "name": "Emily",
          "prop": 0.00080756,
          "sex": "F",
          "year": 1947
         },
         {
          "n": 1391,
          "name": "Emily",
          "prop": 0.00079824,
          "sex": "F",
          "year": 1948
         },
         {
          "n": 1393,
          "name": "Emily",
          "prop": 0.00079351,
          "sex": "F",
          "year": 1949
         },
         {
          "n": 1317,
          "name": "Emily",
          "prop": 0.00074888,
          "sex": "F",
          "year": 1950
         },
         {
          "n": 7,
          "name": "Emily",
          "prop": 3.85e-06,
          "sex": "M",
          "year": 1950
         },
         {
          "n": 1287,
          "name": "Emily",
          "prop": 0.0006967,
          "sex": "F",
          "year": 1951
         },
         {
          "n": 1392,
          "name": "Emily",
          "prop": 0.00073176,
          "sex": "F",
          "year": 1952
         },
         {
          "n": 1325,
          "name": "Emily",
          "prop": 0.00068685,
          "sex": "F",
          "year": 1953
         },
         {
          "n": 1340,
          "name": "Emily",
          "prop": 0.00067308,
          "sex": "F",
          "year": 1954
         },
         {
          "n": 1305,
          "name": "Emily",
          "prop": 0.00065097,
          "sex": "F",
          "year": 1955
         },
         {
          "n": 1283,
          "name": "Emily",
          "prop": 0.00062304,
          "sex": "F",
          "year": 1956
         },
         {
          "n": 7,
          "name": "Emily",
          "prop": 3.26e-06,
          "sex": "M",
          "year": 1956
         },
         {
          "n": 1205,
          "name": "Emily",
          "prop": 0.00057448,
          "sex": "F",
          "year": 1957
         },
         {
          "n": 1174,
          "name": "Emily",
          "prop": 0.00056852,
          "sex": "F",
          "year": 1958
         },
         {
          "n": 1213,
          "name": "Emily",
          "prop": 0.00058359,
          "sex": "F",
          "year": 1959
         },
         {
          "n": 1223,
          "name": "Emily",
          "prop": 0.00058803,
          "sex": "F",
          "year": 1960
         },
         {
          "n": 1149,
          "name": "Emily",
          "prop": 0.00055336,
          "sex": "F",
          "year": 1961
         },
         {
          "n": 1077,
          "name": "Emily",
          "prop": 0.00053133,
          "sex": "F",
          "year": 1962
         },
         {
          "n": 1108,
          "name": "Emily",
          "prop": 0.00055736,
          "sex": "F",
          "year": 1963
         },
         {
          "n": 1130,
          "name": "Emily",
          "prop": 0.00057734,
          "sex": "F",
          "year": 1964
         },
         {
          "n": 1287,
          "name": "Emily",
          "prop": 0.00070429,
          "sex": "F",
          "year": 1965
         },
         {
          "n": 1250,
          "name": "Emily",
          "prop": 0.00071202,
          "sex": "F",
          "year": 1966
         },
         {
          "n": 1206,
          "name": "Emily",
          "prop": 0.00070251,
          "sex": "F",
          "year": 1967
         },
         {
          "n": 5,
          "name": "Emily",
          "prop": 2.81e-06,
          "sex": "M",
          "year": 1967
         },
         {
          "n": 1326,
          "name": "Emily",
          "prop": 0.00077564,
          "sex": "F",
          "year": 1968
         },
         {
          "n": 1577,
          "name": "Emily",
          "prop": 0.00089464,
          "sex": "F",
          "year": 1969
         },
         {
          "n": 1931,
          "name": "Emily",
          "prop": 0.0010541,
          "sex": "F",
          "year": 1970
         },
         {
          "n": 6,
          "name": "Emily",
          "prop": 3.15e-06,
          "sex": "M",
          "year": 1970
         },
         {
          "n": 1868,
          "name": "Emily",
          "prop": 0.00106599,
          "sex": "F",
          "year": 1971
         },
         {
          "n": 2333,
          "name": "Emily",
          "prop": 0.00144685,
          "sex": "F",
          "year": 1972
         },
         {
          "n": 10,
          "name": "Emily",
          "prop": 5.97e-06,
          "sex": "M",
          "year": 1972
         },
         {
          "n": 3028,
          "name": "Emily",
          "prop": 0.00194848,
          "sex": "F",
          "year": 1973
         },
         {
          "n": 13,
          "name": "Emily",
          "prop": 8.05e-06,
          "sex": "M",
          "year": 1973
         },
         {
          "n": 4329,
          "name": "Emily",
          "prop": 0.00276412,
          "sex": "F",
          "year": 1974
         },
         {
          "n": 19,
          "name": "Emily",
          "prop": 1.165e-05,
          "sex": "M",
          "year": 1974
         },
         {
          "n": 5481,
          "name": "Emily",
          "prop": 0.0035118,
          "sex": "F",
          "year": 1975
         },
         {
          "n": 16,
          "name": "Emily",
          "prop": 9.86e-06,
          "sex": "M",
          "year": 1975
         },
         {
          "n": 5547,
          "name": "Emily",
          "prop": 0.00352893,
          "sex": "F",
          "year": 1976
         },
         {
          "n": 20,
          "name": "Emily",
          "prop": 1.225e-05,
          "sex": "M",
          "year": 1976
         },
         {
          "n": 6879,
          "name": "Emily",
          "prop": 0.00418195,
          "sex": "F",
          "year": 1977
         },
         {
          "n": 17,
          "name": "Emily",
          "prop": 9.94e-06,
          "sex": "M",
          "year": 1977
         },
         {
          "n": 7479,
          "name": "Emily",
          "prop": 0.00454985,
          "sex": "F",
          "year": 1978
         },
         {
          "n": 21,
          "name": "Emily",
          "prop": 1.229e-05,
          "sex": "M",
          "year": 1978
         },
         {
          "n": 7973,
          "name": "Emily",
          "prop": 0.00462704,
          "sex": "F",
          "year": 1979
         },
         {
          "n": 27,
          "name": "Emily",
          "prop": 1.507e-05,
          "sex": "M",
          "year": 1979
         },
         {
          "n": 9007,
          "name": "Emily",
          "prop": 0.00505909,
          "sex": "F",
          "year": 1980
         },
         {
          "n": 33,
          "name": "Emily",
          "prop": 1.779e-05,
          "sex": "M",
          "year": 1980
         },
         {
          "n": 10801,
          "name": "Emily",
          "prop": 0.00604004,
          "sex": "F",
          "year": 1981
         },
         {
          "n": 48,
          "name": "Emily",
          "prop": 2.577e-05,
          "sex": "M",
          "year": 1981
         },
         {
          "n": 12518,
          "name": "Emily",
          "prop": 0.00690083,
          "sex": "F",
          "year": 1982
         },
         {
          "n": 55,
          "name": "Emily",
          "prop": 2.914e-05,
          "sex": "M",
          "year": 1982
         },
         {
          "n": 12377,
          "name": "Emily",
          "prop": 0.00691702,
          "sex": "F",
          "year": 1983
         },
         {
          "n": 44,
          "name": "Emily",
          "prop": 2.361e-05,
          "sex": "M",
          "year": 1983
         },
         {
          "n": 12782,
          "name": "Emily",
          "prop": 0.00708973,
          "sex": "F",
          "year": 1984
         },
         {
          "n": 53,
          "name": "Emily",
          "prop": 2.825e-05,
          "sex": "M",
          "year": 1984
         },
         {
          "n": 13135,
          "name": "Emily",
          "prop": 0.00711576,
          "sex": "F",
          "year": 1985
         },
         {
          "n": 47,
          "name": "Emily",
          "prop": 2.443e-05,
          "sex": "M",
          "year": 1985
         },
         {
          "n": 13234,
          "name": "Emily",
          "prop": 0.00717272,
          "sex": "F",
          "year": 1986
         },
         {
          "n": 57,
          "name": "Emily",
          "prop": 2.967e-05,
          "sex": "M",
          "year": 1986
         },
         {
          "n": 14711,
          "name": "Emily",
          "prop": 0.00785076,
          "sex": "F",
          "year": 1987
         },
         {
          "n": 51,
          "name": "Emily",
          "prop": 2.616e-05,
          "sex": "M",
          "year": 1987
         },
         {
          "n": 15870,
          "name": "Emily",
          "prop": 0.00825453,
          "sex": "F",
          "year": 1988
         },
         {
          "n": 57,
          "name": "Emily",
          "prop": 2.848e-05,
          "sex": "M",
          "year": 1988
         },
         {
          "n": 17319,
          "name": "Emily",
          "prop": 0.00869476,
          "sex": "F",
          "year": 1989
         },
         {
          "n": 82,
          "name": "Emily",
          "prop": 3.913e-05,
          "sex": "M",
          "year": 1989
         },
         {
          "n": 19363,
          "name": "Emily",
          "prop": 0.00942715,
          "sex": "F",
          "year": 1990
         },
         {
          "n": 53,
          "name": "Emily",
          "prop": 2.464e-05,
          "sex": "M",
          "year": 1990
         },
         {
          "n": 20308,
          "name": "Emily",
          "prop": 0.00998861,
          "sex": "F",
          "year": 1991
         },
         {
          "n": 34,
          "name": "Emily",
          "prop": 1.604e-05,
          "sex": "M",
          "year": 1991
         },
         {
          "n": 21831,
          "name": "Emily",
          "prop": 0.0108921,
          "sex": "F",
          "year": 1992
         },
         {
          "n": 31,
          "name": "Emily",
          "prop": 1.477e-05,
          "sex": "M",
          "year": 1992
         },
         {
          "n": 23593,
          "name": "Emily",
          "prop": 0.011969,
          "sex": "F",
          "year": 1993
         },
         {
          "n": 43,
          "name": "Emily",
          "prop": 2.082e-05,
          "sex": "M",
          "year": 1993
         },
         {
          "n": 24149,
          "name": "Emily",
          "prop": 0.0123903,
          "sex": "F",
          "year": 1994
         },
         {
          "n": 31,
          "name": "Emily",
          "prop": 1.521e-05,
          "sex": "M",
          "year": 1994
         },
         {
          "n": 24380,
          "name": "Emily",
          "prop": 0.01268987,
          "sex": "F",
          "year": 1995
         },
         {
          "n": 40,
          "name": "Emily",
          "prop": 1.989e-05,
          "sex": "M",
          "year": 1995
         },
         {
          "n": 25151,
          "name": "Emily",
          "prop": 0.01312079,
          "sex": "F",
          "year": 1996
         },
         {
          "n": 34,
          "name": "Emily",
          "prop": 1.697e-05,
          "sex": "M",
          "year": 1996
         },
         {
          "n": 25732,
          "name": "Emily",
          "prop": 0.01348066,
          "sex": "F",
          "year": 1997
         },
         {
          "n": 35,
          "name": "Emily",
          "prop": 1.752e-05,
          "sex": "M",
          "year": 1997
         },
         {
          "n": 26181,
          "name": "Emily",
          "prop": 0.01350923,
          "sex": "F",
          "year": 1998
         },
         {
          "n": 38,
          "name": "Emily",
          "prop": 1.875e-05,
          "sex": "M",
          "year": 1998
         },
         {
          "n": 26539,
          "name": "Emily",
          "prop": 0.01363629,
          "sex": "F",
          "year": 1999
         },
         {
          "n": 45,
          "name": "Emily",
          "prop": 2.208e-05,
          "sex": "M",
          "year": 1999
         },
         {
          "n": 25953,
          "name": "Emily",
          "prop": 0.0130098,
          "sex": "F",
          "year": 2000
         },
         {
          "n": 30,
          "name": "Emily",
          "prop": 1.437e-05,
          "sex": "M",
          "year": 2000
         },
         {
          "n": 25055,
          "name": "Emily",
          "prop": 0.01265378,
          "sex": "F",
          "year": 2001
         },
         {
          "n": 32,
          "name": "Emily",
          "prop": 1.548e-05,
          "sex": "M",
          "year": 2001
         },
         {
          "n": 24463,
          "name": "Emily",
          "prop": 0.01239287,
          "sex": "F",
          "year": 2002
         },
         {
          "n": 34,
          "name": "Emily",
          "prop": 1.646e-05,
          "sex": "M",
          "year": 2002
         },
         {
          "n": 25688,
          "name": "Emily",
          "prop": 0.01280938,
          "sex": "F",
          "year": 2003
         },
         {
          "n": 41,
          "name": "Emily",
          "prop": 1.952e-05,
          "sex": "M",
          "year": 2003
         },
         {
          "n": 25033,
          "name": "Emily",
          "prop": 0.01241356,
          "sex": "F",
          "year": 2004
         },
         {
          "n": 119,
          "name": "Emily",
          "prop": 5.634e-05,
          "sex": "M",
          "year": 2004
         },
         {
          "n": 23937,
          "name": "Emily",
          "prop": 0.01180224,
          "sex": "F",
          "year": 2005
         },
         {
          "n": 33,
          "name": "Emily",
          "prop": 1.552e-05,
          "sex": "M",
          "year": 2005
         },
         {
          "n": 21400,
          "name": "Emily",
          "prop": 0.0102439,
          "sex": "F",
          "year": 2006
         },
         {
          "n": 31,
          "name": "Emily",
          "prop": 1.415e-05,
          "sex": "M",
          "year": 2006
         },
         {
          "n": 19355,
          "name": "Emily",
          "prop": 0.00915218,
          "sex": "F",
          "year": 2007
         },
         {
          "n": 27,
          "name": "Emily",
          "prop": 1.22e-05,
          "sex": "M",
          "year": 2007
         },
         {
          "n": 17429,
          "name": "Emily",
          "prop": 0.00837559,
          "sex": "F",
          "year": 2008
         },
         {
          "n": 26,
          "name": "Emily",
          "prop": 1.194e-05,
          "sex": "M",
          "year": 2008
         },
         {
          "n": 15345,
          "name": "Emily",
          "prop": 0.00758536,
          "sex": "F",
          "year": 2009
         },
         {
          "n": 19,
          "name": "Emily",
          "prop": 8.97e-06,
          "sex": "M",
          "year": 2009
         },
         {
          "n": 14268,
          "name": "Emily",
          "prop": 0.00728597,
          "sex": "F",
          "year": 2010
         },
         {
          "n": 20,
          "name": "Emily",
          "prop": 9.75e-06,
          "sex": "M",
          "year": 2010
         },
         {
          "n": 14251,
          "name": "Emily",
          "prop": 0.00736468,
          "sex": "F",
          "year": 2011
         },
         {
          "n": 11,
          "name": "Emily",
          "prop": 5.42e-06,
          "sex": "M",
          "year": 2011
         },
         {
          "n": 13646,
          "name": "Emily",
          "prop": 0.00704768,
          "sex": "F",
          "year": 2012
         },
         {
          "n": 21,
          "name": "Emily",
          "prop": 1.037e-05,
          "sex": "M",
          "year": 2012
         },
         {
          "n": 13124,
          "name": "Emily",
          "prop": 0.00682172,
          "sex": "F",
          "year": 2013
         },
         {
          "n": 20,
          "name": "Emily",
          "prop": 9.92e-06,
          "sex": "M",
          "year": 2013
         },
         {
          "n": 12642,
          "name": "Emily",
          "prop": 0.00647759,
          "sex": "F",
          "year": 2014
         },
         {
          "n": 11,
          "name": "Emily",
          "prop": 5.38e-06,
          "sex": "M",
          "year": 2014
         },
         {
          "n": 11780,
          "name": "Emily",
          "prop": 0.00605557,
          "sex": "F",
          "year": 2015
         },
         {
          "n": 17,
          "name": "Emily",
          "prop": 8.34e-06,
          "sex": "M",
          "year": 2015
         },
         {
          "n": 10957,
          "name": "Emily",
          "prop": 0.0056818,
          "sex": "F",
          "year": 2016
         },
         {
          "n": 7,
          "name": "Emily",
          "prop": 3.47e-06,
          "sex": "M",
          "year": 2016
         },
         {
          "n": 9746,
          "name": "Emily",
          "prop": 0.00519815,
          "sex": "F",
          "year": 2017
         },
         {
          "n": 5,
          "name": "Emily",
          "prop": 2.55e-06,
          "sex": "M",
          "year": 2017
         }
        ]
       },
       "encoding": {
        "x": {
         "bin": {
          "maxbins": 30
         },
         "field": "year",
         "title": "Years",
         "type": "nominal"
        },
        "y": {
         "field": "n",
         "title": "Count",
         "type": "quantitative"
        }
       },
       "height": 500,
       "mark": "bar",
       "title": "How many baby were given the name \"Emily\" over the course of years?",
       "width": 500
      },
      "image/png": "[encoded data removed]",
      "text/plain": [
       "<VegaLite 4 object>\n",
       "\n",
       "If you see this message, it means the renderer has not been properly enabled\n",
       "for the frontend that you are using. For more information, see\n",
       "https://altair-viz.github.io/user_guide/troubleshooting.html\n"
      ]
     },
     "execution_count": 37,
     "metadata": {},
     "output_type": "execute_result"
    }
   ],
   "source": [
    "(alt.Chart(baby_names>> filter(_.name == 'Emily')).\n",
    "     mark_bar().\n",
    "     encode(x = alt.X('year:N',title = 'Years', bin = alt.Bin(maxbins=30)),\n",
    "            y = alt.Y('n', title = 'Count')).\n",
    "     properties(title = 'How many baby were given the name \"Emily\" over the course of years?', \n",
    "                height = 500, width = 500)\n",
    ")"
   ]
  },
  {
   "cell_type": "code",
   "execution_count": 38,
   "id": "7f4c8000-7c14-42d3-b5a0-629a2c9781e7",
   "metadata": {},
   "outputs": [],
   "source": [
    "baby_names_1998 = baby_names >> filter(_.year == 1998)"
   ]
  },
  {
   "cell_type": "code",
   "execution_count": 39,
   "id": "7c7ce5e0-fd8e-4115-99c1-d079dc005a50",
   "metadata": {},
   "outputs": [
    {
     "data": {
      "text/html": [
       "<div>\n",
       "<style scoped>\n",
       "    .dataframe tbody tr th:only-of-type {\n",
       "        vertical-align: middle;\n",
       "    }\n",
       "\n",
       "    .dataframe tbody tr th {\n",
       "        vertical-align: top;\n",
       "    }\n",
       "\n",
       "    .dataframe thead th {\n",
       "        text-align: right;\n",
       "    }\n",
       "</style>\n",
       "<table border=\"1\" class=\"dataframe\">\n",
       "  <thead>\n",
       "    <tr style=\"text-align: right;\">\n",
       "      <th></th>\n",
       "      <th>year</th>\n",
       "      <th>sex</th>\n",
       "      <th>name</th>\n",
       "      <th>n</th>\n",
       "      <th>prop</th>\n",
       "    </tr>\n",
       "  </thead>\n",
       "  <tbody>\n",
       "    <tr>\n",
       "      <th>1276291</th>\n",
       "      <td>1998</td>\n",
       "      <td>F</td>\n",
       "      <td>Emily</td>\n",
       "      <td>26181</td>\n",
       "      <td>0.013509</td>\n",
       "    </tr>\n",
       "    <tr>\n",
       "      <th>1276292</th>\n",
       "      <td>1998</td>\n",
       "      <td>F</td>\n",
       "      <td>Hannah</td>\n",
       "      <td>21373</td>\n",
       "      <td>0.011028</td>\n",
       "    </tr>\n",
       "    <tr>\n",
       "      <th>1276293</th>\n",
       "      <td>1998</td>\n",
       "      <td>F</td>\n",
       "      <td>Samantha</td>\n",
       "      <td>20193</td>\n",
       "      <td>0.010419</td>\n",
       "    </tr>\n",
       "    <tr>\n",
       "      <th>1276294</th>\n",
       "      <td>1998</td>\n",
       "      <td>F</td>\n",
       "      <td>Sarah</td>\n",
       "      <td>19879</td>\n",
       "      <td>0.010257</td>\n",
       "    </tr>\n",
       "    <tr>\n",
       "      <th>1276295</th>\n",
       "      <td>1998</td>\n",
       "      <td>F</td>\n",
       "      <td>Ashley</td>\n",
       "      <td>19874</td>\n",
       "      <td>0.010255</td>\n",
       "    </tr>\n",
       "  </tbody>\n",
       "</table>\n",
       "</div>"
      ],
      "text/plain": [
       "         year sex      name      n      prop\n",
       "1276291  1998   F     Emily  26181  0.013509\n",
       "1276292  1998   F    Hannah  21373  0.011028\n",
       "1276293  1998   F  Samantha  20193  0.010419\n",
       "1276294  1998   F     Sarah  19879  0.010257\n",
       "1276295  1998   F    Ashley  19874  0.010255"
      ]
     },
     "execution_count": 39,
     "metadata": {},
     "output_type": "execute_result"
    }
   ],
   "source": [
    "baby_names_1998.head()"
   ]
  },
  {
   "cell_type": "code",
   "execution_count": 40,
   "id": "f5ffa133-f4e5-4ac7-8a68-c597f0423504",
   "metadata": {},
   "outputs": [],
   "source": [
    "frequently_occuring_names_in_1998 = baby_names_1998 >> arrange(- _.n) >> filter(_.n > 24000)"
   ]
  },
  {
   "cell_type": "code",
   "execution_count": 41,
   "id": "3d4a9c0b-71b3-4c32-a308-6d2464a015c9",
   "metadata": {},
   "outputs": [
    {
     "data": {
      "text/html": [
       "<div>\n",
       "<style scoped>\n",
       "    .dataframe tbody tr th:only-of-type {\n",
       "        vertical-align: middle;\n",
       "    }\n",
       "\n",
       "    .dataframe tbody tr th {\n",
       "        vertical-align: top;\n",
       "    }\n",
       "\n",
       "    .dataframe thead th {\n",
       "        text-align: right;\n",
       "    }\n",
       "</style>\n",
       "<table border=\"1\" class=\"dataframe\">\n",
       "  <thead>\n",
       "    <tr style=\"text-align: right;\">\n",
       "      <th></th>\n",
       "      <th>year</th>\n",
       "      <th>sex</th>\n",
       "      <th>name</th>\n",
       "      <th>n</th>\n",
       "      <th>prop</th>\n",
       "    </tr>\n",
       "  </thead>\n",
       "  <tbody>\n",
       "    <tr>\n",
       "      <th>1292889</th>\n",
       "      <td>1998</td>\n",
       "      <td>M</td>\n",
       "      <td>Michael</td>\n",
       "      <td>36614</td>\n",
       "      <td>0.018062</td>\n",
       "    </tr>\n",
       "    <tr>\n",
       "      <th>1292890</th>\n",
       "      <td>1998</td>\n",
       "      <td>M</td>\n",
       "      <td>Jacob</td>\n",
       "      <td>36014</td>\n",
       "      <td>0.017766</td>\n",
       "    </tr>\n",
       "    <tr>\n",
       "      <th>1292891</th>\n",
       "      <td>1998</td>\n",
       "      <td>M</td>\n",
       "      <td>Matthew</td>\n",
       "      <td>31142</td>\n",
       "      <td>0.015363</td>\n",
       "    </tr>\n",
       "    <tr>\n",
       "      <th>1292892</th>\n",
       "      <td>1998</td>\n",
       "      <td>M</td>\n",
       "      <td>Joshua</td>\n",
       "      <td>28088</td>\n",
       "      <td>0.013856</td>\n",
       "    </tr>\n",
       "    <tr>\n",
       "      <th>1292893</th>\n",
       "      <td>1998</td>\n",
       "      <td>M</td>\n",
       "      <td>Christopher</td>\n",
       "      <td>27001</td>\n",
       "      <td>0.013320</td>\n",
       "    </tr>\n",
       "    <tr>\n",
       "      <th>1292894</th>\n",
       "      <td>1998</td>\n",
       "      <td>M</td>\n",
       "      <td>Nicholas</td>\n",
       "      <td>26634</td>\n",
       "      <td>0.013139</td>\n",
       "    </tr>\n",
       "    <tr>\n",
       "      <th>1276291</th>\n",
       "      <td>1998</td>\n",
       "      <td>F</td>\n",
       "      <td>Emily</td>\n",
       "      <td>26181</td>\n",
       "      <td>0.013509</td>\n",
       "    </tr>\n",
       "  </tbody>\n",
       "</table>\n",
       "</div>"
      ],
      "text/plain": [
       "         year sex         name      n      prop\n",
       "1292889  1998   M      Michael  36614  0.018062\n",
       "1292890  1998   M        Jacob  36014  0.017766\n",
       "1292891  1998   M      Matthew  31142  0.015363\n",
       "1292892  1998   M       Joshua  28088  0.013856\n",
       "1292893  1998   M  Christopher  27001  0.013320\n",
       "1292894  1998   M     Nicholas  26634  0.013139\n",
       "1276291  1998   F        Emily  26181  0.013509"
      ]
     },
     "execution_count": 41,
     "metadata": {},
     "output_type": "execute_result"
    }
   ],
   "source": [
    "frequently_occuring_names_in_1998"
   ]
  },
  {
   "cell_type": "code",
   "execution_count": 42,
   "id": "9e53e63a-3679-4aa2-a1c6-eaf847359e7c",
   "metadata": {},
   "outputs": [
    {
     "data": {
      "application/vnd.vegalite.v4+json": {
       "$schema": "https://vega.github.io/schema/vega-lite/v4.17.0.json",
       "config": {
        "view": {
         "continuousHeight": 300,
         "continuousWidth": 400
        }
       },
       "data": {
        "name": "data-c804d649e25e2483f8357fe0537f7ba9"
       },
       "datasets": {
        "data-c804d649e25e2483f8357fe0537f7ba9": [
         {
          "n": 36614,
          "name": "Michael",
          "prop": 0.01806194,
          "sex": "M",
          "year": 1998
         },
         {
          "n": 36014,
          "name": "Jacob",
          "prop": 0.01776595,
          "sex": "M",
          "year": 1998
         },
         {
          "n": 31142,
          "name": "Matthew",
          "prop": 0.01536256,
          "sex": "M",
          "year": 1998
         },
         {
          "n": 28088,
          "name": "Joshua",
          "prop": 0.013856,
          "sex": "M",
          "year": 1998
         },
         {
          "n": 27001,
          "name": "Christopher",
          "prop": 0.01331978,
          "sex": "M",
          "year": 1998
         },
         {
          "n": 26634,
          "name": "Nicholas",
          "prop": 0.01313873,
          "sex": "M",
          "year": 1998
         },
         {
          "n": 26181,
          "name": "Emily",
          "prop": 0.01350923,
          "sex": "F",
          "year": 1998
         }
        ]
       },
       "encoding": {
        "x": {
         "field": "n",
         "title": "Counts",
         "type": "quantitative"
        },
        "y": {
         "field": "name",
         "title": "Names",
         "type": "nominal"
        }
       },
       "height": 500,
       "mark": "bar",
       "title": "Most Frequently Occurring Names in 1998",
       "width": 500
      },
      "image/png": "[encoded data removed]",
      "text/plain": [
       "<VegaLite 4 object>\n",
       "\n",
       "If you see this message, it means the renderer has not been properly enabled\n",
       "for the frontend that you are using. For more information, see\n",
       "https://altair-viz.github.io/user_guide/troubleshooting.html\n"
      ]
     },
     "execution_count": 42,
     "metadata": {},
     "output_type": "execute_result"
    }
   ],
   "source": [
    "(alt.Chart(frequently_occuring_names_in_1998).\n",
    "     mark_bar().\n",
    "     encode(y = alt.Y('name', title = 'Names'), x = alt.X('n', title = 'Counts')).\n",
    "     properties(title = 'Most Frequently Occurring Names in 1998', \n",
    "                height = 500, width = 500)\n",
    ")"
   ]
  },
  {
   "cell_type": "code",
   "execution_count": 43,
   "id": "cbb7a5e6-e9c0-4836-a949-3c2e15efc9af",
   "metadata": {},
   "outputs": [],
   "source": [
    "emma_male = baby_names >> filter(_.name == 'Emma') >> filter(_.sex == 'M')"
   ]
  },
  {
   "cell_type": "code",
   "execution_count": 44,
   "id": "f5346357-e08f-40d3-bd44-2a4ebec5e0cf",
   "metadata": {},
   "outputs": [
    {
     "data": {
      "text/html": [
       "<div>\n",
       "<style scoped>\n",
       "    .dataframe tbody tr th:only-of-type {\n",
       "        vertical-align: middle;\n",
       "    }\n",
       "\n",
       "    .dataframe tbody tr th {\n",
       "        vertical-align: top;\n",
       "    }\n",
       "\n",
       "    .dataframe thead th {\n",
       "        text-align: right;\n",
       "    }\n",
       "</style>\n",
       "<table border=\"1\" class=\"dataframe\">\n",
       "  <thead>\n",
       "    <tr style=\"text-align: right;\">\n",
       "      <th></th>\n",
       "      <th>year</th>\n",
       "      <th>sex</th>\n",
       "      <th>name</th>\n",
       "      <th>n</th>\n",
       "      <th>prop</th>\n",
       "    </tr>\n",
       "  </thead>\n",
       "  <tbody>\n",
       "    <tr>\n",
       "      <th>1554</th>\n",
       "      <td>1880</td>\n",
       "      <td>M</td>\n",
       "      <td>Emma</td>\n",
       "      <td>10</td>\n",
       "      <td>0.000084</td>\n",
       "    </tr>\n",
       "    <tr>\n",
       "      <th>3555</th>\n",
       "      <td>1881</td>\n",
       "      <td>M</td>\n",
       "      <td>Emma</td>\n",
       "      <td>9</td>\n",
       "      <td>0.000083</td>\n",
       "    </tr>\n",
       "    <tr>\n",
       "      <th>5740</th>\n",
       "      <td>1882</td>\n",
       "      <td>M</td>\n",
       "      <td>Emma</td>\n",
       "      <td>7</td>\n",
       "      <td>0.000057</td>\n",
       "    </tr>\n",
       "    <tr>\n",
       "      <th>7865</th>\n",
       "      <td>1883</td>\n",
       "      <td>M</td>\n",
       "      <td>Emma</td>\n",
       "      <td>7</td>\n",
       "      <td>0.000062</td>\n",
       "    </tr>\n",
       "    <tr>\n",
       "      <th>9992</th>\n",
       "      <td>1884</td>\n",
       "      <td>M</td>\n",
       "      <td>Emma</td>\n",
       "      <td>9</td>\n",
       "      <td>0.000073</td>\n",
       "    </tr>\n",
       "    <tr>\n",
       "      <th>...</th>\n",
       "      <td>...</td>\n",
       "      <td>...</td>\n",
       "      <td>...</td>\n",
       "      <td>...</td>\n",
       "      <td>...</td>\n",
       "    </tr>\n",
       "    <tr>\n",
       "      <th>1783873</th>\n",
       "      <td>2013</td>\n",
       "      <td>M</td>\n",
       "      <td>Emma</td>\n",
       "      <td>18</td>\n",
       "      <td>0.000009</td>\n",
       "    </tr>\n",
       "    <tr>\n",
       "      <th>1818811</th>\n",
       "      <td>2014</td>\n",
       "      <td>M</td>\n",
       "      <td>Emma</td>\n",
       "      <td>12</td>\n",
       "      <td>0.000006</td>\n",
       "    </tr>\n",
       "    <tr>\n",
       "      <th>1852829</th>\n",
       "      <td>2015</td>\n",
       "      <td>M</td>\n",
       "      <td>Emma</td>\n",
       "      <td>10</td>\n",
       "      <td>0.000005</td>\n",
       "    </tr>\n",
       "    <tr>\n",
       "      <th>1883202</th>\n",
       "      <td>2016</td>\n",
       "      <td>M</td>\n",
       "      <td>Emma</td>\n",
       "      <td>18</td>\n",
       "      <td>0.000009</td>\n",
       "    </tr>\n",
       "    <tr>\n",
       "      <th>1916590</th>\n",
       "      <td>2017</td>\n",
       "      <td>M</td>\n",
       "      <td>Emma</td>\n",
       "      <td>14</td>\n",
       "      <td>0.000007</td>\n",
       "    </tr>\n",
       "  </tbody>\n",
       "</table>\n",
       "<p>114 rows × 5 columns</p>\n",
       "</div>"
      ],
      "text/plain": [
       "         year sex  name   n      prop\n",
       "1554     1880   M  Emma  10  0.000084\n",
       "3555     1881   M  Emma   9  0.000083\n",
       "5740     1882   M  Emma   7  0.000057\n",
       "7865     1883   M  Emma   7  0.000062\n",
       "9992     1884   M  Emma   9  0.000073\n",
       "...       ...  ..   ...  ..       ...\n",
       "1783873  2013   M  Emma  18  0.000009\n",
       "1818811  2014   M  Emma  12  0.000006\n",
       "1852829  2015   M  Emma  10  0.000005\n",
       "1883202  2016   M  Emma  18  0.000009\n",
       "1916590  2017   M  Emma  14  0.000007\n",
       "\n",
       "[114 rows x 5 columns]"
      ]
     },
     "execution_count": 44,
     "metadata": {},
     "output_type": "execute_result"
    }
   ],
   "source": [
    "emma_male"
   ]
  },
  {
   "cell_type": "code",
   "execution_count": 45,
   "id": "dd951fcb-17d2-4f46-848c-d80ba8159eb8",
   "metadata": {},
   "outputs": [
    {
     "data": {
      "application/vnd.vegalite.v4+json": {
       "$schema": "https://vega.github.io/schema/vega-lite/v4.17.0.json",
       "config": {
        "view": {
         "continuousHeight": 300,
         "continuousWidth": 400
        }
       },
       "data": {
        "name": "data-b079d0bfe5e84f356a2e86828c15426d"
       },
       "datasets": {
        "data-b079d0bfe5e84f356a2e86828c15426d": [
         {
          "n": 10,
          "name": "Emma",
          "prop": 8.446e-05,
          "sex": "M",
          "year": 1880
         },
         {
          "n": 9,
          "name": "Emma",
          "prop": 8.312e-05,
          "sex": "M",
          "year": 1881
         },
         {
          "n": 7,
          "name": "Emma",
          "prop": 5.736e-05,
          "sex": "M",
          "year": 1882
         },
         {
          "n": 7,
          "name": "Emma",
          "prop": 6.223e-05,
          "sex": "M",
          "year": 1883
         },
         {
          "n": 9,
          "name": "Emma",
          "prop": 7.333e-05,
          "sex": "M",
          "year": 1884
         },
         {
          "n": 14,
          "name": "Emma",
          "prop": 0.00012075,
          "sex": "M",
          "year": 1885
         },
         {
          "n": 11,
          "name": "Emma",
          "prop": 9.241e-05,
          "sex": "M",
          "year": 1886
         },
         {
          "n": 14,
          "name": "Emma",
          "prop": 0.00012807,
          "sex": "M",
          "year": 1887
         },
         {
          "n": 17,
          "name": "Emma",
          "prop": 0.00013086,
          "sex": "M",
          "year": 1888
         },
         {
          "n": 10,
          "name": "Emma",
          "prop": 8.401e-05,
          "sex": "M",
          "year": 1889
         },
         {
          "n": 16,
          "name": "Emma",
          "prop": 0.00013367,
          "sex": "M",
          "year": 1890
         },
         {
          "n": 13,
          "name": "Emma",
          "prop": 0.00011898,
          "sex": "M",
          "year": 1891
         },
         {
          "n": 12,
          "name": "Emma",
          "prop": 9.129e-05,
          "sex": "M",
          "year": 1892
         },
         {
          "n": 14,
          "name": "Emma",
          "prop": 0.00011566,
          "sex": "M",
          "year": 1893
         },
         {
          "n": 15,
          "name": "Emma",
          "prop": 0.0001201,
          "sex": "M",
          "year": 1894
         },
         {
          "n": 12,
          "name": "Emma",
          "prop": 9.475e-05,
          "sex": "M",
          "year": 1895
         },
         {
          "n": 11,
          "name": "Emma",
          "prop": 8.522e-05,
          "sex": "M",
          "year": 1896
         },
         {
          "n": 8,
          "name": "Emma",
          "prop": 6.056e-05,
          "sex": "M",
          "year": 1898
         },
         {
          "n": 10,
          "name": "Emma",
          "prop": 8.681e-05,
          "sex": "M",
          "year": 1899
         },
         {
          "n": 21,
          "name": "Emma",
          "prop": 0.00012952,
          "sex": "M",
          "year": 1900
         },
         {
          "n": 8,
          "name": "Emma",
          "prop": 6.921e-05,
          "sex": "M",
          "year": 1901
         },
         {
          "n": 11,
          "name": "Emma",
          "prop": 8.286e-05,
          "sex": "M",
          "year": 1902
         },
         {
          "n": 10,
          "name": "Emma",
          "prop": 7.732e-05,
          "sex": "M",
          "year": 1903
         },
         {
          "n": 12,
          "name": "Emma",
          "prop": 8.664e-05,
          "sex": "M",
          "year": 1904
         },
         {
          "n": 6,
          "name": "Emma",
          "prop": 4.189e-05,
          "sex": "M",
          "year": 1905
         },
         {
          "n": 8,
          "name": "Emma",
          "prop": 5.553e-05,
          "sex": "M",
          "year": 1906
         },
         {
          "n": 11,
          "name": "Emma",
          "prop": 6.936e-05,
          "sex": "M",
          "year": 1907
         },
         {
          "n": 5,
          "name": "Emma",
          "prop": 2.827e-05,
          "sex": "M",
          "year": 1909
         },
         {
          "n": 17,
          "name": "Emma",
          "prop": 8.153e-05,
          "sex": "M",
          "year": 1910
         },
         {
          "n": 8,
          "name": "Emma",
          "prop": 3.314e-05,
          "sex": "M",
          "year": 1911
         },
         {
          "n": 10,
          "name": "Emma",
          "prop": 2.215e-05,
          "sex": "M",
          "year": 1912
         },
         {
          "n": 11,
          "name": "Emma",
          "prop": 2.051e-05,
          "sex": "M",
          "year": 1913
         },
         {
          "n": 11,
          "name": "Emma",
          "prop": 1.61e-05,
          "sex": "M",
          "year": 1914
         },
         {
          "n": 24,
          "name": "Emma",
          "prop": 2.724e-05,
          "sex": "M",
          "year": 1915
         },
         {
          "n": 17,
          "name": "Emma",
          "prop": 1.841e-05,
          "sex": "M",
          "year": 1916
         },
         {
          "n": 15,
          "name": "Emma",
          "prop": 1.564e-05,
          "sex": "M",
          "year": 1917
         },
         {
          "n": 19,
          "name": "Emma",
          "prop": 1.812e-05,
          "sex": "M",
          "year": 1918
         },
         {
          "n": 12,
          "name": "Emma",
          "prop": 1.182e-05,
          "sex": "M",
          "year": 1919
         },
         {
          "n": 10,
          "name": "Emma",
          "prop": 9.08e-06,
          "sex": "M",
          "year": 1920
         },
         {
          "n": 12,
          "name": "Emma",
          "prop": 1.055e-05,
          "sex": "M",
          "year": 1921
         },
         {
          "n": 16,
          "name": "Emma",
          "prop": 1.422e-05,
          "sex": "M",
          "year": 1922
         },
         {
          "n": 21,
          "name": "Emma",
          "prop": 1.855e-05,
          "sex": "M",
          "year": 1923
         },
         {
          "n": 23,
          "name": "Emma",
          "prop": 1.967e-05,
          "sex": "M",
          "year": 1924
         },
         {
          "n": 19,
          "name": "Emma",
          "prop": 1.65e-05,
          "sex": "M",
          "year": 1925
         },
         {
          "n": 23,
          "name": "Emma",
          "prop": 2.008e-05,
          "sex": "M",
          "year": 1926
         },
         {
          "n": 25,
          "name": "Emma",
          "prop": 2.152e-05,
          "sex": "M",
          "year": 1927
         },
         {
          "n": 20,
          "name": "Emma",
          "prop": 1.753e-05,
          "sex": "M",
          "year": 1928
         },
         {
          "n": 23,
          "name": "Emma",
          "prop": 2.077e-05,
          "sex": "M",
          "year": 1929
         },
         {
          "n": 22,
          "name": "Emma",
          "prop": 1.948e-05,
          "sex": "M",
          "year": 1930
         },
         {
          "n": 24,
          "name": "Emma",
          "prop": 2.244e-05,
          "sex": "M",
          "year": 1931
         },
         {
          "n": 19,
          "name": "Emma",
          "prop": 1.769e-05,
          "sex": "M",
          "year": 1932
         },
         {
          "n": 29,
          "name": "Emma",
          "prop": 2.843e-05,
          "sex": "M",
          "year": 1933
         },
         {
          "n": 26,
          "name": "Emma",
          "prop": 2.449e-05,
          "sex": "M",
          "year": 1934
         },
         {
          "n": 21,
          "name": "Emma",
          "prop": 1.964e-05,
          "sex": "M",
          "year": 1935
         },
         {
          "n": 15,
          "name": "Emma",
          "prop": 1.41e-05,
          "sex": "M",
          "year": 1936
         },
         {
          "n": 18,
          "name": "Emma",
          "prop": 1.646e-05,
          "sex": "M",
          "year": 1937
         },
         {
          "n": 18,
          "name": "Emma",
          "prop": 1.584e-05,
          "sex": "M",
          "year": 1938
         },
         {
          "n": 16,
          "name": "Emma",
          "prop": 1.412e-05,
          "sex": "M",
          "year": 1939
         },
         {
          "n": 22,
          "name": "Emma",
          "prop": 1.855e-05,
          "sex": "M",
          "year": 1940
         },
         {
          "n": 14,
          "name": "Emma",
          "prop": 1.116e-05,
          "sex": "M",
          "year": 1941
         },
         {
          "n": 17,
          "name": "Emma",
          "prop": 1.207e-05,
          "sex": "M",
          "year": 1942
         },
         {
          "n": 5,
          "name": "Emma",
          "prop": 3.44e-06,
          "sex": "M",
          "year": 1943
         },
         {
          "n": 13,
          "name": "Emma",
          "prop": 9.36e-06,
          "sex": "M",
          "year": 1944
         },
         {
          "n": 6,
          "name": "Emma",
          "prop": 4.38e-06,
          "sex": "M",
          "year": 1945
         },
         {
          "n": 10,
          "name": "Emma",
          "prop": 6.06e-06,
          "sex": "M",
          "year": 1946
         },
         {
          "n": 11,
          "name": "Emma",
          "prop": 5.92e-06,
          "sex": "M",
          "year": 1947
         },
         {
          "n": 6,
          "name": "Emma",
          "prop": 3.37e-06,
          "sex": "M",
          "year": 1948
         },
         {
          "n": 9,
          "name": "Emma",
          "prop": 4.99e-06,
          "sex": "M",
          "year": 1949
         },
         {
          "n": 5,
          "name": "Emma",
          "prop": 2.75e-06,
          "sex": "M",
          "year": 1950
         },
         {
          "n": 10,
          "name": "Emma",
          "prop": 5e-06,
          "sex": "M",
          "year": 1953
         },
         {
          "n": 7,
          "name": "Emma",
          "prop": 3.38e-06,
          "sex": "M",
          "year": 1954
         },
         {
          "n": 5,
          "name": "Emma",
          "prop": 2.39e-06,
          "sex": "M",
          "year": 1955
         },
         {
          "n": 7,
          "name": "Emma",
          "prop": 3.26e-06,
          "sex": "M",
          "year": 1956
         },
         {
          "n": 5,
          "name": "Emma",
          "prop": 2.29e-06,
          "sex": "M",
          "year": 1957
         },
         {
          "n": 5,
          "name": "Emma",
          "prop": 2.31e-06,
          "sex": "M",
          "year": 1959
         },
         {
          "n": 8,
          "name": "Emma",
          "prop": 3.81e-06,
          "sex": "M",
          "year": 1962
         },
         {
          "n": 5,
          "name": "Emma",
          "prop": 2.42e-06,
          "sex": "M",
          "year": 1963
         },
         {
          "n": 5,
          "name": "Emma",
          "prop": 2.82e-06,
          "sex": "M",
          "year": 1968
         },
         {
          "n": 5,
          "name": "Emma",
          "prop": 2.75e-06,
          "sex": "M",
          "year": 1971
         },
         {
          "n": 6,
          "name": "Emma",
          "prop": 3.72e-06,
          "sex": "M",
          "year": 1973
         },
         {
          "n": 5,
          "name": "Emma",
          "prop": 2.79e-06,
          "sex": "M",
          "year": 1979
         },
         {
          "n": 5,
          "name": "Emma",
          "prop": 2.65e-06,
          "sex": "M",
          "year": 1982
         },
         {
          "n": 7,
          "name": "Emma",
          "prop": 3.76e-06,
          "sex": "M",
          "year": 1983
         },
         {
          "n": 7,
          "name": "Emma",
          "prop": 3.73e-06,
          "sex": "M",
          "year": 1984
         },
         {
          "n": 5,
          "name": "Emma",
          "prop": 2.6e-06,
          "sex": "M",
          "year": 1986
         },
         {
          "n": 9,
          "name": "Emma",
          "prop": 4.62e-06,
          "sex": "M",
          "year": 1987
         },
         {
          "n": 11,
          "name": "Emma",
          "prop": 5.5e-06,
          "sex": "M",
          "year": 1988
         },
         {
          "n": 18,
          "name": "Emma",
          "prop": 8.59e-06,
          "sex": "M",
          "year": 1989
         },
         {
          "n": 9,
          "name": "Emma",
          "prop": 4.18e-06,
          "sex": "M",
          "year": 1990
         },
         {
          "n": 8,
          "name": "Emma",
          "prop": 3.87e-06,
          "sex": "M",
          "year": 1993
         },
         {
          "n": 5,
          "name": "Emma",
          "prop": 2.45e-06,
          "sex": "M",
          "year": 1994
         },
         {
          "n": 5,
          "name": "Emma",
          "prop": 2.49e-06,
          "sex": "M",
          "year": 1995
         },
         {
          "n": 6,
          "name": "Emma",
          "prop": 2.99e-06,
          "sex": "M",
          "year": 1996
         },
         {
          "n": 9,
          "name": "Emma",
          "prop": 4.51e-06,
          "sex": "M",
          "year": 1997
         },
         {
          "n": 11,
          "name": "Emma",
          "prop": 5.43e-06,
          "sex": "M",
          "year": 1998
         },
         {
          "n": 17,
          "name": "Emma",
          "prop": 8.34e-06,
          "sex": "M",
          "year": 1999
         },
         {
          "n": 15,
          "name": "Emma",
          "prop": 7.19e-06,
          "sex": "M",
          "year": 2000
         },
         {
          "n": 14,
          "name": "Emma",
          "prop": 6.77e-06,
          "sex": "M",
          "year": 2001
         },
         {
          "n": 15,
          "name": "Emma",
          "prop": 7.26e-06,
          "sex": "M",
          "year": 2002
         },
         {
          "n": 37,
          "name": "Emma",
          "prop": 1.762e-05,
          "sex": "M",
          "year": 2003
         },
         {
          "n": 102,
          "name": "Emma",
          "prop": 4.829e-05,
          "sex": "M",
          "year": 2004
         },
         {
          "n": 36,
          "name": "Emma",
          "prop": 1.693e-05,
          "sex": "M",
          "year": 2005
         },
         {
          "n": 22,
          "name": "Emma",
          "prop": 1.004e-05,
          "sex": "M",
          "year": 2006
         },
         {
          "n": 21,
          "name": "Emma",
          "prop": 9.49e-06,
          "sex": "M",
          "year": 2007
         },
         {
          "n": 15,
          "name": "Emma",
          "prop": 6.89e-06,
          "sex": "M",
          "year": 2008
         },
         {
          "n": 19,
          "name": "Emma",
          "prop": 8.97e-06,
          "sex": "M",
          "year": 2009
         },
         {
          "n": 17,
          "name": "Emma",
          "prop": 8.28e-06,
          "sex": "M",
          "year": 2010
         },
         {
          "n": 33,
          "name": "Emma",
          "prop": 1.627e-05,
          "sex": "M",
          "year": 2011
         },
         {
          "n": 20,
          "name": "Emma",
          "prop": 9.87e-06,
          "sex": "M",
          "year": 2012
         },
         {
          "n": 18,
          "name": "Emma",
          "prop": 8.93e-06,
          "sex": "M",
          "year": 2013
         },
         {
          "n": 12,
          "name": "Emma",
          "prop": 5.87e-06,
          "sex": "M",
          "year": 2014
         },
         {
          "n": 10,
          "name": "Emma",
          "prop": 4.91e-06,
          "sex": "M",
          "year": 2015
         },
         {
          "n": 18,
          "name": "Emma",
          "prop": 8.92e-06,
          "sex": "M",
          "year": 2016
         },
         {
          "n": 14,
          "name": "Emma",
          "prop": 7.13e-06,
          "sex": "M",
          "year": 2017
         }
        ]
       },
       "encoding": {
        "x": {
         "field": "year",
         "type": "nominal"
        },
        "y": {
         "field": "n",
         "type": "quantitative"
        }
       },
       "mark": "line",
       "title": "Number of males babies named \"Emma\" over the years"
      },
      "image/png": "[encoded data removed]",
      "text/plain": [
       "<VegaLite 4 object>\n",
       "\n",
       "If you see this message, it means the renderer has not been properly enabled\n",
       "for the frontend that you are using. For more information, see\n",
       "https://altair-viz.github.io/user_guide/troubleshooting.html\n"
      ]
     },
     "execution_count": 45,
     "metadata": {},
     "output_type": "execute_result"
    }
   ],
   "source": [
    "alt.Chart(emma_male).mark_line().encode(x = alt.X('year:N'), y = 'n').properties(title = 'Number of males babies named \"Emma\" over the years')"
   ]
  },
  {
   "cell_type": "markdown",
   "id": "6953279b-625f-4979-8a91-3cf2d08e2ac1",
   "metadata": {},
   "source": [
    "__*There seems to be a pretty high rise between 2002 and 2005 in the baby boys who were named \"Emma\"*__"
   ]
  },
  {
   "cell_type": "markdown",
   "id": "55b0bb24-81d5-41b4-b47c-ef7f44122062",
   "metadata": {},
   "source": [
    "## *Let's see how many babies were named after \"Kobe\"*\n",
    "\n",
    "__*I grew up a massive Kobe fan and that's the only reason I wanted to see these stats.*__"
   ]
  },
  {
   "cell_type": "code",
   "execution_count": 46,
   "id": "f5aa72cc-3473-4a24-a51c-e002a465d705",
   "metadata": {},
   "outputs": [],
   "source": [
    "kobe_named_babies = baby_names[baby_names['name'] == \"Kobe\"]"
   ]
  },
  {
   "cell_type": "code",
   "execution_count": 47,
   "id": "68fd9aaa-bfa9-4796-99d6-0f8eda89e840",
   "metadata": {},
   "outputs": [
    {
     "data": {
      "application/vnd.vegalite.v4+json": {
       "$schema": "https://vega.github.io/schema/vega-lite/v4.17.0.json",
       "config": {
        "view": {
         "continuousHeight": 300,
         "continuousWidth": 400
        }
       },
       "data": {
        "name": "data-7d6c03dff654b5269fb6173a7f81f0a6"
       },
       "datasets": {
        "data-7d6c03dff654b5269fb6173a7f81f0a6": [
         {
          "n": 5,
          "name": "Kobe",
          "prop": 2.39e-06,
          "sex": "M",
          "year": 1989
         },
         {
          "n": 9,
          "name": "Kobe",
          "prop": 4.48e-06,
          "sex": "M",
          "year": 1995
         },
         {
          "n": 87,
          "name": "Kobe",
          "prop": 4.343e-05,
          "sex": "M",
          "year": 1996
         },
         {
          "n": 13,
          "name": "Kobe",
          "prop": 6.81e-06,
          "sex": "F",
          "year": 1997
         },
         {
          "n": 350,
          "name": "Kobe",
          "prop": 0.00017523,
          "sex": "M",
          "year": 1997
         },
         {
          "n": 12,
          "name": "Kobe",
          "prop": 6.19e-06,
          "sex": "F",
          "year": 1998
         },
         {
          "n": 1104,
          "name": "Kobe",
          "prop": 0.00054461,
          "sex": "M",
          "year": 1998
         },
         {
          "n": 23,
          "name": "Kobe",
          "prop": 1.182e-05,
          "sex": "F",
          "year": 1999
         },
         {
          "n": 860,
          "name": "Kobe",
          "prop": 0.00042191,
          "sex": "M",
          "year": 1999
         },
         {
          "n": 25,
          "name": "Kobe",
          "prop": 1.253e-05,
          "sex": "F",
          "year": 2000
         },
         {
          "n": 1432,
          "name": "Kobe",
          "prop": 0.00068602,
          "sex": "M",
          "year": 2000
         },
         {
          "n": 19,
          "name": "Kobe",
          "prop": 9.6e-06,
          "sex": "F",
          "year": 2001
         },
         {
          "n": 1552,
          "name": "Kobe",
          "prop": 0.00075069,
          "sex": "M",
          "year": 2001
         },
         {
          "n": 16,
          "name": "Kobe",
          "prop": 8.11e-06,
          "sex": "F",
          "year": 2002
         },
         {
          "n": 1392,
          "name": "Kobe",
          "prop": 0.00067392,
          "sex": "M",
          "year": 2002
         },
         {
          "n": 15,
          "name": "Kobe",
          "prop": 7.48e-06,
          "sex": "F",
          "year": 2003
         },
         {
          "n": 1212,
          "name": "Kobe",
          "prop": 0.00057713,
          "sex": "M",
          "year": 2003
         },
         {
          "n": 8,
          "name": "Kobe",
          "prop": 3.97e-06,
          "sex": "F",
          "year": 2004
         },
         {
          "n": 625,
          "name": "Kobe",
          "prop": 0.0002959,
          "sex": "M",
          "year": 2004
         },
         {
          "n": 6,
          "name": "Kobe",
          "prop": 2.96e-06,
          "sex": "F",
          "year": 2005
         },
         {
          "n": 443,
          "name": "Kobe",
          "prop": 0.00020837,
          "sex": "M",
          "year": 2005
         },
         {
          "n": 11,
          "name": "Kobe",
          "prop": 5.27e-06,
          "sex": "F",
          "year": 2006
         },
         {
          "n": 469,
          "name": "Kobe",
          "prop": 0.00021407,
          "sex": "M",
          "year": 2006
         },
         {
          "n": 9,
          "name": "Kobe",
          "prop": 4.26e-06,
          "sex": "F",
          "year": 2007
         },
         {
          "n": 572,
          "name": "Kobe",
          "prop": 0.00025842,
          "sex": "M",
          "year": 2007
         },
         {
          "n": 15,
          "name": "Kobe",
          "prop": 7.21e-06,
          "sex": "F",
          "year": 2008
         },
         {
          "n": 730,
          "name": "Kobe",
          "prop": 0.0003351,
          "sex": "M",
          "year": 2008
         },
         {
          "n": 12,
          "name": "Kobe",
          "prop": 5.93e-06,
          "sex": "F",
          "year": 2009
         },
         {
          "n": 685,
          "name": "Kobe",
          "prop": 0.00032327,
          "sex": "M",
          "year": 2009
         },
         {
          "n": 12,
          "name": "Kobe",
          "prop": 6.13e-06,
          "sex": "F",
          "year": 2010
         },
         {
          "n": 644,
          "name": "Kobe",
          "prop": 0.00031382,
          "sex": "M",
          "year": 2010
         },
         {
          "n": 14,
          "name": "Kobe",
          "prop": 7.23e-06,
          "sex": "F",
          "year": 2011
         },
         {
          "n": 553,
          "name": "Kobe",
          "prop": 0.0002726,
          "sex": "M",
          "year": 2011
         },
         {
          "n": 13,
          "name": "Kobe",
          "prop": 6.71e-06,
          "sex": "F",
          "year": 2012
         },
         {
          "n": 525,
          "name": "Kobe",
          "prop": 0.00025915,
          "sex": "M",
          "year": 2012
         },
         {
          "n": 14,
          "name": "Kobe",
          "prop": 7.28e-06,
          "sex": "F",
          "year": 2013
         },
         {
          "n": 551,
          "name": "Kobe",
          "prop": 0.00027321,
          "sex": "M",
          "year": 2013
         },
         {
          "n": 14,
          "name": "Kobe",
          "prop": 7.17e-06,
          "sex": "F",
          "year": 2014
         },
         {
          "n": 519,
          "name": "Kobe",
          "prop": 0.00025387,
          "sex": "M",
          "year": 2014
         },
         {
          "n": 7,
          "name": "Kobe",
          "prop": 3.6e-06,
          "sex": "F",
          "year": 2015
         },
         {
          "n": 465,
          "name": "Kobe",
          "prop": 0.00022813,
          "sex": "M",
          "year": 2015
         },
         {
          "n": 20,
          "name": "Kobe",
          "prop": 1.037e-05,
          "sex": "F",
          "year": 2016
         },
         {
          "n": 583,
          "name": "Kobe",
          "prop": 0.00028893,
          "sex": "M",
          "year": 2016
         },
         {
          "n": 17,
          "name": "Kobe",
          "prop": 9.07e-06,
          "sex": "F",
          "year": 2017
         },
         {
          "n": 527,
          "name": "Kobe",
          "prop": 0.00026843,
          "sex": "M",
          "year": 2017
         }
        ]
       },
       "encoding": {
        "x": {
         "field": "year",
         "type": "nominal"
        },
        "y": {
         "field": "n",
         "type": "quantitative"
        }
       },
       "height": 400,
       "mark": "bar",
       "title": "A lot of babies were named \"Kobe\" during the 3-peat Lakers run",
       "width": 600
      },
      "image/png": "[encoded data removed]",
      "text/plain": [
       "<VegaLite 4 object>\n",
       "\n",
       "If you see this message, it means the renderer has not been properly enabled\n",
       "for the frontend that you are using. For more information, see\n",
       "https://altair-viz.github.io/user_guide/troubleshooting.html\n"
      ]
     },
     "execution_count": 47,
     "metadata": {},
     "output_type": "execute_result"
    }
   ],
   "source": [
    "(alt.Chart(kobe_named_babies).mark_bar().\n",
    "     encode(x = 'year:N', y = 'n').\n",
    "     properties(title = 'A lot of babies were named \"Kobe\" during the 3-peat Lakers run', \n",
    "                width = 600, \n",
    "                height = 400))"
   ]
  },
  {
   "cell_type": "code",
   "execution_count": 48,
   "id": "140bc1a0-b040-43dd-8aaf-32e72a1ab52c",
   "metadata": {},
   "outputs": [],
   "source": [
    "cristiano_named_babies = baby_names[baby_names['name'] == \"Cristiano\"]"
   ]
  },
  {
   "cell_type": "code",
   "execution_count": 49,
   "id": "bc12afc6-7004-491d-a52e-d195da8c2583",
   "metadata": {},
   "outputs": [
    {
     "data": {
      "application/vnd.vegalite.v4+json": {
       "$schema": "https://vega.github.io/schema/vega-lite/v4.17.0.json",
       "config": {
        "view": {
         "continuousHeight": 300,
         "continuousWidth": 400
        }
       },
       "data": {
        "name": "data-7b4faf33a2c8ece02b5feb17f429d595"
       },
       "datasets": {
        "data-7b4faf33a2c8ece02b5feb17f429d595": [
         {
          "n": 6,
          "name": "Cristiano",
          "prop": 2.86e-06,
          "sex": "M",
          "year": 1989
         },
         {
          "n": 5,
          "name": "Cristiano",
          "prop": 2.32e-06,
          "sex": "M",
          "year": 1990
         },
         {
          "n": 7,
          "name": "Cristiano",
          "prop": 3.3e-06,
          "sex": "M",
          "year": 1991
         },
         {
          "n": 6,
          "name": "Cristiano",
          "prop": 2.86e-06,
          "sex": "M",
          "year": 1992
         },
         {
          "n": 7,
          "name": "Cristiano",
          "prop": 3.43e-06,
          "sex": "M",
          "year": 1994
         },
         {
          "n": 7,
          "name": "Cristiano",
          "prop": 3.48e-06,
          "sex": "M",
          "year": 1995
         },
         {
          "n": 10,
          "name": "Cristiano",
          "prop": 4.99e-06,
          "sex": "M",
          "year": 1996
         },
         {
          "n": 7,
          "name": "Cristiano",
          "prop": 3.5e-06,
          "sex": "M",
          "year": 1997
         },
         {
          "n": 16,
          "name": "Cristiano",
          "prop": 7.89e-06,
          "sex": "M",
          "year": 1998
         },
         {
          "n": 10,
          "name": "Cristiano",
          "prop": 4.91e-06,
          "sex": "M",
          "year": 1999
         },
         {
          "n": 13,
          "name": "Cristiano",
          "prop": 6.23e-06,
          "sex": "M",
          "year": 2000
         },
         {
          "n": 11,
          "name": "Cristiano",
          "prop": 5.32e-06,
          "sex": "M",
          "year": 2001
         },
         {
          "n": 13,
          "name": "Cristiano",
          "prop": 6.29e-06,
          "sex": "M",
          "year": 2002
         },
         {
          "n": 9,
          "name": "Cristiano",
          "prop": 4.29e-06,
          "sex": "M",
          "year": 2003
         },
         {
          "n": 27,
          "name": "Cristiano",
          "prop": 1.278e-05,
          "sex": "M",
          "year": 2004
         },
         {
          "n": 28,
          "name": "Cristiano",
          "prop": 1.317e-05,
          "sex": "M",
          "year": 2005
         },
         {
          "n": 36,
          "name": "Cristiano",
          "prop": 1.643e-05,
          "sex": "M",
          "year": 2006
         },
         {
          "n": 79,
          "name": "Cristiano",
          "prop": 3.569e-05,
          "sex": "M",
          "year": 2007
         },
         {
          "n": 120,
          "name": "Cristiano",
          "prop": 5.508e-05,
          "sex": "M",
          "year": 2008
         },
         {
          "n": 138,
          "name": "Cristiano",
          "prop": 6.513e-05,
          "sex": "M",
          "year": 2009
         },
         {
          "n": 188,
          "name": "Cristiano",
          "prop": 9.161e-05,
          "sex": "M",
          "year": 2010
         },
         {
          "n": 201,
          "name": "Cristiano",
          "prop": 9.908e-05,
          "sex": "M",
          "year": 2011
         },
         {
          "n": 186,
          "name": "Cristiano",
          "prop": 9.181e-05,
          "sex": "M",
          "year": 2012
         },
         {
          "n": 208,
          "name": "Cristiano",
          "prop": 0.00010314,
          "sex": "M",
          "year": 2013
         },
         {
          "n": 247,
          "name": "Cristiano",
          "prop": 0.00012082,
          "sex": "M",
          "year": 2014
         },
         {
          "n": 266,
          "name": "Cristiano",
          "prop": 0.0001305,
          "sex": "M",
          "year": 2015
         },
         {
          "n": 264,
          "name": "Cristiano",
          "prop": 0.00013084,
          "sex": "M",
          "year": 2016
         },
         {
          "n": 255,
          "name": "Cristiano",
          "prop": 0.00012988,
          "sex": "M",
          "year": 2017
         }
        ]
       },
       "encoding": {
        "x": {
         "field": "year",
         "title": "Years",
         "type": "nominal"
        },
        "y": {
         "field": "n",
         "title": "Count",
         "type": "quantitative"
        }
       },
       "mark": "bar",
       "title": "More babies are named after \"Cristiano Ronaldo\" after he joined Real Madrid"
      },
      "image/png": "[encoded data removed]",
      "text/plain": [
       "<VegaLite 4 object>\n",
       "\n",
       "If you see this message, it means the renderer has not been properly enabled\n",
       "for the frontend that you are using. For more information, see\n",
       "https://altair-viz.github.io/user_guide/troubleshooting.html\n"
      ]
     },
     "execution_count": 49,
     "metadata": {},
     "output_type": "execute_result"
    }
   ],
   "source": [
    "(alt.Chart(cristiano_named_babies).\n",
    "     mark_bar().\n",
    "     encode(x = alt.X('year:N', title = 'Years'), \n",
    "            y = alt.Y('n', title = 'Count')).\n",
    "     properties(title = 'More babies are named after \"Cristiano Ronaldo\" after he joined Real Madrid')\n",
    ")"
   ]
  }
 ],
 "metadata": {
  "kernelspec": {
   "display_name": "Python 3 (ipykernel)",
   "language": "python",
   "name": "python3"
  },
  "language_info": {
   "codemirror_mode": {
    "name": "ipython",
    "version": 3
   },
   "file_extension": ".py",
   "mimetype": "text/x-python",
   "name": "python",
   "nbconvert_exporter": "python",
   "pygments_lexer": "ipython3",
   "version": "3.9.7"
  }
 },
 "nbformat": 4,
 "nbformat_minor": 5
}
